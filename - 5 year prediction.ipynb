{
 "cells": [
  {
   "cell_type": "markdown",
   "id": "fa83735e",
   "metadata": {},
   "source": [
    "# Agriculture Project \n",
    "# Problem Statement- Model for Forecasting Production 5 year prediction"
   ]
  },
  {
   "cell_type": "code",
   "execution_count": 11,
   "id": "5a342350",
   "metadata": {},
   "outputs": [],
   "source": [
    "import numpy as np\n",
    "import pandas as pd\n",
    "import matplotlib.pyplot as plt\n",
    "import seaborn as sns"
   ]
  },
  {
   "cell_type": "markdown",
   "id": "0b58b096",
   "metadata": {},
   "source": [
    "# Gathering Data"
   ]
  },
  {
   "cell_type": "code",
   "execution_count": 7,
   "id": "007d64a3",
   "metadata": {},
   "outputs": [
    {
     "data": {
      "text/html": [
       "<div>\n",
       "<style scoped>\n",
       "    .dataframe tbody tr th:only-of-type {\n",
       "        vertical-align: middle;\n",
       "    }\n",
       "\n",
       "    .dataframe tbody tr th {\n",
       "        vertical-align: top;\n",
       "    }\n",
       "\n",
       "    .dataframe thead th {\n",
       "        text-align: right;\n",
       "    }\n",
       "</style>\n",
       "<table border=\"1\" class=\"dataframe\">\n",
       "  <thead>\n",
       "    <tr style=\"text-align: right;\">\n",
       "      <th></th>\n",
       "      <th>State</th>\n",
       "      <th>District</th>\n",
       "      <th>Crop</th>\n",
       "      <th>Crop_Year</th>\n",
       "      <th>Season</th>\n",
       "      <th>Area</th>\n",
       "      <th>Production</th>\n",
       "      <th>Yield</th>\n",
       "    </tr>\n",
       "  </thead>\n",
       "  <tbody>\n",
       "    <tr>\n",
       "      <th>0</th>\n",
       "      <td>Andaman and Nicobar Island</td>\n",
       "      <td>NICOBARS</td>\n",
       "      <td>Arecanut</td>\n",
       "      <td>2007</td>\n",
       "      <td>Kharif</td>\n",
       "      <td>2439.6</td>\n",
       "      <td>3415.0</td>\n",
       "      <td>1.40</td>\n",
       "    </tr>\n",
       "    <tr>\n",
       "      <th>1</th>\n",
       "      <td>Andaman and Nicobar Island</td>\n",
       "      <td>NICOBARS</td>\n",
       "      <td>Arecanut</td>\n",
       "      <td>2007</td>\n",
       "      <td>Rabi</td>\n",
       "      <td>1626.4</td>\n",
       "      <td>2277.0</td>\n",
       "      <td>1.40</td>\n",
       "    </tr>\n",
       "    <tr>\n",
       "      <th>2</th>\n",
       "      <td>Andaman and Nicobar Island</td>\n",
       "      <td>NICOBARS</td>\n",
       "      <td>Arecanut</td>\n",
       "      <td>2008</td>\n",
       "      <td>Autumn</td>\n",
       "      <td>4147.0</td>\n",
       "      <td>3060.0</td>\n",
       "      <td>0.74</td>\n",
       "    </tr>\n",
       "    <tr>\n",
       "      <th>3</th>\n",
       "      <td>Andaman and Nicobar Island</td>\n",
       "      <td>NICOBARS</td>\n",
       "      <td>Arecanut</td>\n",
       "      <td>2008</td>\n",
       "      <td>Summer</td>\n",
       "      <td>4147.0</td>\n",
       "      <td>2660.0</td>\n",
       "      <td>0.64</td>\n",
       "    </tr>\n",
       "    <tr>\n",
       "      <th>4</th>\n",
       "      <td>Andaman and Nicobar Island</td>\n",
       "      <td>NICOBARS</td>\n",
       "      <td>Arecanut</td>\n",
       "      <td>2009</td>\n",
       "      <td>Autumn</td>\n",
       "      <td>4153.0</td>\n",
       "      <td>3120.0</td>\n",
       "      <td>0.75</td>\n",
       "    </tr>\n",
       "    <tr>\n",
       "      <th>...</th>\n",
       "      <td>...</td>\n",
       "      <td>...</td>\n",
       "      <td>...</td>\n",
       "      <td>...</td>\n",
       "      <td>...</td>\n",
       "      <td>...</td>\n",
       "      <td>...</td>\n",
       "      <td>...</td>\n",
       "    </tr>\n",
       "    <tr>\n",
       "      <th>345331</th>\n",
       "      <td>West Bengal</td>\n",
       "      <td>PURULIA</td>\n",
       "      <td>Wheat</td>\n",
       "      <td>2015</td>\n",
       "      <td>Rabi</td>\n",
       "      <td>855.0</td>\n",
       "      <td>1241.0</td>\n",
       "      <td>1.45</td>\n",
       "    </tr>\n",
       "    <tr>\n",
       "      <th>345332</th>\n",
       "      <td>West Bengal</td>\n",
       "      <td>PURULIA</td>\n",
       "      <td>Wheat</td>\n",
       "      <td>2016</td>\n",
       "      <td>Rabi</td>\n",
       "      <td>1366.0</td>\n",
       "      <td>2415.0</td>\n",
       "      <td>1.77</td>\n",
       "    </tr>\n",
       "    <tr>\n",
       "      <th>345333</th>\n",
       "      <td>West Bengal</td>\n",
       "      <td>PURULIA</td>\n",
       "      <td>Wheat</td>\n",
       "      <td>2017</td>\n",
       "      <td>Rabi</td>\n",
       "      <td>1052.0</td>\n",
       "      <td>2145.0</td>\n",
       "      <td>2.04</td>\n",
       "    </tr>\n",
       "    <tr>\n",
       "      <th>345334</th>\n",
       "      <td>West Bengal</td>\n",
       "      <td>PURULIA</td>\n",
       "      <td>Wheat</td>\n",
       "      <td>2018</td>\n",
       "      <td>Rabi</td>\n",
       "      <td>833.0</td>\n",
       "      <td>2114.0</td>\n",
       "      <td>2.54</td>\n",
       "    </tr>\n",
       "    <tr>\n",
       "      <th>345335</th>\n",
       "      <td>West Bengal</td>\n",
       "      <td>PURULIA</td>\n",
       "      <td>Wheat</td>\n",
       "      <td>2019</td>\n",
       "      <td>Rabi</td>\n",
       "      <td>516.0</td>\n",
       "      <td>931.0</td>\n",
       "      <td>1.80</td>\n",
       "    </tr>\n",
       "  </tbody>\n",
       "</table>\n",
       "<p>345336 rows × 8 columns</p>\n",
       "</div>"
      ],
      "text/plain": [
       "                             State District       Crop  Crop_Year  \\\n",
       "0       Andaman and Nicobar Island  NICOBARS  Arecanut       2007   \n",
       "1       Andaman and Nicobar Island  NICOBARS  Arecanut       2007   \n",
       "2       Andaman and Nicobar Island  NICOBARS  Arecanut       2008   \n",
       "3       Andaman and Nicobar Island  NICOBARS  Arecanut       2008   \n",
       "4       Andaman and Nicobar Island  NICOBARS  Arecanut       2009   \n",
       "...                            ...       ...       ...        ...   \n",
       "345331                 West Bengal   PURULIA     Wheat       2015   \n",
       "345332                 West Bengal   PURULIA     Wheat       2016   \n",
       "345333                 West Bengal   PURULIA     Wheat       2017   \n",
       "345334                 West Bengal   PURULIA     Wheat       2018   \n",
       "345335                 West Bengal   PURULIA     Wheat       2019   \n",
       "\n",
       "             Season   Area   Production  Yield  \n",
       "0       Kharif       2439.6      3415.0   1.40  \n",
       "1       Rabi         1626.4      2277.0   1.40  \n",
       "2       Autumn       4147.0      3060.0   0.74  \n",
       "3       Summer       4147.0      2660.0   0.64  \n",
       "4       Autumn       4153.0      3120.0   0.75  \n",
       "...             ...     ...         ...    ...  \n",
       "345331  Rabi          855.0      1241.0   1.45  \n",
       "345332  Rabi         1366.0      2415.0   1.77  \n",
       "345333  Rabi         1052.0      2145.0   2.04  \n",
       "345334  Rabi          833.0      2114.0   2.54  \n",
       "345335  Rabi          516.0       931.0   1.80  \n",
       "\n",
       "[345336 rows x 8 columns]"
      ]
     },
     "execution_count": 7,
     "metadata": {},
     "output_type": "execute_result"
    }
   ],
   "source": [
    "df = pd.read_csv('APY.csv')\n",
    "df"
   ]
  },
  {
   "cell_type": "markdown",
   "id": "7a755c7e",
   "metadata": {},
   "source": [
    "# Data Pre-Preprocessing"
   ]
  },
  {
   "cell_type": "code",
   "execution_count": 8,
   "id": "5850dcec",
   "metadata": {},
   "outputs": [
    {
     "data": {
      "text/plain": [
       "(345336, 8)"
      ]
     },
     "execution_count": 8,
     "metadata": {},
     "output_type": "execute_result"
    }
   ],
   "source": [
    "df.shape"
   ]
  },
  {
   "cell_type": "code",
   "execution_count": 13,
   "id": "63ec3a6d",
   "metadata": {},
   "outputs": [
    {
     "data": {
      "text/html": [
       "<div>\n",
       "<style scoped>\n",
       "    .dataframe tbody tr th:only-of-type {\n",
       "        vertical-align: middle;\n",
       "    }\n",
       "\n",
       "    .dataframe tbody tr th {\n",
       "        vertical-align: top;\n",
       "    }\n",
       "\n",
       "    .dataframe thead th {\n",
       "        text-align: right;\n",
       "    }\n",
       "</style>\n",
       "<table border=\"1\" class=\"dataframe\">\n",
       "  <thead>\n",
       "    <tr style=\"text-align: right;\">\n",
       "      <th></th>\n",
       "      <th>State</th>\n",
       "      <th>District</th>\n",
       "      <th>Crop</th>\n",
       "      <th>Crop_Year</th>\n",
       "      <th>Season</th>\n",
       "      <th>Area</th>\n",
       "      <th>Production</th>\n",
       "      <th>Yield</th>\n",
       "    </tr>\n",
       "  </thead>\n",
       "  <tbody>\n",
       "    <tr>\n",
       "      <th>0</th>\n",
       "      <td>Andaman and Nicobar Island</td>\n",
       "      <td>NICOBARS</td>\n",
       "      <td>Arecanut</td>\n",
       "      <td>2007</td>\n",
       "      <td>Kharif</td>\n",
       "      <td>2439.6</td>\n",
       "      <td>3415.0</td>\n",
       "      <td>1.40</td>\n",
       "    </tr>\n",
       "    <tr>\n",
       "      <th>1</th>\n",
       "      <td>Andaman and Nicobar Island</td>\n",
       "      <td>NICOBARS</td>\n",
       "      <td>Arecanut</td>\n",
       "      <td>2007</td>\n",
       "      <td>Rabi</td>\n",
       "      <td>1626.4</td>\n",
       "      <td>2277.0</td>\n",
       "      <td>1.40</td>\n",
       "    </tr>\n",
       "    <tr>\n",
       "      <th>2</th>\n",
       "      <td>Andaman and Nicobar Island</td>\n",
       "      <td>NICOBARS</td>\n",
       "      <td>Arecanut</td>\n",
       "      <td>2008</td>\n",
       "      <td>Autumn</td>\n",
       "      <td>4147.0</td>\n",
       "      <td>3060.0</td>\n",
       "      <td>0.74</td>\n",
       "    </tr>\n",
       "    <tr>\n",
       "      <th>3</th>\n",
       "      <td>Andaman and Nicobar Island</td>\n",
       "      <td>NICOBARS</td>\n",
       "      <td>Arecanut</td>\n",
       "      <td>2008</td>\n",
       "      <td>Summer</td>\n",
       "      <td>4147.0</td>\n",
       "      <td>2660.0</td>\n",
       "      <td>0.64</td>\n",
       "    </tr>\n",
       "    <tr>\n",
       "      <th>4</th>\n",
       "      <td>Andaman and Nicobar Island</td>\n",
       "      <td>NICOBARS</td>\n",
       "      <td>Arecanut</td>\n",
       "      <td>2009</td>\n",
       "      <td>Autumn</td>\n",
       "      <td>4153.0</td>\n",
       "      <td>3120.0</td>\n",
       "      <td>0.75</td>\n",
       "    </tr>\n",
       "  </tbody>\n",
       "</table>\n",
       "</div>"
      ],
      "text/plain": [
       "                        State District       Crop  Crop_Year       Season  \\\n",
       "0  Andaman and Nicobar Island  NICOBARS  Arecanut       2007  Kharif        \n",
       "1  Andaman and Nicobar Island  NICOBARS  Arecanut       2007  Rabi          \n",
       "2  Andaman and Nicobar Island  NICOBARS  Arecanut       2008  Autumn        \n",
       "3  Andaman and Nicobar Island  NICOBARS  Arecanut       2008  Summer        \n",
       "4  Andaman and Nicobar Island  NICOBARS  Arecanut       2009  Autumn        \n",
       "\n",
       "    Area   Production  Yield  \n",
       "0  2439.6      3415.0   1.40  \n",
       "1  1626.4      2277.0   1.40  \n",
       "2  4147.0      3060.0   0.74  \n",
       "3  4147.0      2660.0   0.64  \n",
       "4  4153.0      3120.0   0.75  "
      ]
     },
     "execution_count": 13,
     "metadata": {},
     "output_type": "execute_result"
    }
   ],
   "source": [
    "df.head()"
   ]
  },
  {
   "cell_type": "code",
   "execution_count": 9,
   "id": "cda88194",
   "metadata": {},
   "outputs": [
    {
     "data": {
      "text/html": [
       "<div>\n",
       "<style scoped>\n",
       "    .dataframe tbody tr th:only-of-type {\n",
       "        vertical-align: middle;\n",
       "    }\n",
       "\n",
       "    .dataframe tbody tr th {\n",
       "        vertical-align: top;\n",
       "    }\n",
       "\n",
       "    .dataframe thead th {\n",
       "        text-align: right;\n",
       "    }\n",
       "</style>\n",
       "<table border=\"1\" class=\"dataframe\">\n",
       "  <thead>\n",
       "    <tr style=\"text-align: right;\">\n",
       "      <th></th>\n",
       "      <th>State</th>\n",
       "      <th>District</th>\n",
       "      <th>Crop</th>\n",
       "      <th>Crop_Year</th>\n",
       "      <th>Season</th>\n",
       "      <th>Area</th>\n",
       "      <th>Production</th>\n",
       "      <th>Yield</th>\n",
       "    </tr>\n",
       "  </thead>\n",
       "  <tbody>\n",
       "    <tr>\n",
       "      <th>0</th>\n",
       "      <td>Andaman and Nicobar Island</td>\n",
       "      <td>NICOBARS</td>\n",
       "      <td>Arecanut</td>\n",
       "      <td>2007</td>\n",
       "      <td>Kharif</td>\n",
       "      <td>2439.6</td>\n",
       "      <td>3415.0</td>\n",
       "      <td>1.40</td>\n",
       "    </tr>\n",
       "    <tr>\n",
       "      <th>1</th>\n",
       "      <td>Andaman and Nicobar Island</td>\n",
       "      <td>NICOBARS</td>\n",
       "      <td>Arecanut</td>\n",
       "      <td>2007</td>\n",
       "      <td>Rabi</td>\n",
       "      <td>1626.4</td>\n",
       "      <td>2277.0</td>\n",
       "      <td>1.40</td>\n",
       "    </tr>\n",
       "    <tr>\n",
       "      <th>2</th>\n",
       "      <td>Andaman and Nicobar Island</td>\n",
       "      <td>NICOBARS</td>\n",
       "      <td>Arecanut</td>\n",
       "      <td>2008</td>\n",
       "      <td>Autumn</td>\n",
       "      <td>4147.0</td>\n",
       "      <td>3060.0</td>\n",
       "      <td>0.74</td>\n",
       "    </tr>\n",
       "    <tr>\n",
       "      <th>3</th>\n",
       "      <td>Andaman and Nicobar Island</td>\n",
       "      <td>NICOBARS</td>\n",
       "      <td>Arecanut</td>\n",
       "      <td>2008</td>\n",
       "      <td>Summer</td>\n",
       "      <td>4147.0</td>\n",
       "      <td>2660.0</td>\n",
       "      <td>0.64</td>\n",
       "    </tr>\n",
       "    <tr>\n",
       "      <th>4</th>\n",
       "      <td>Andaman and Nicobar Island</td>\n",
       "      <td>NICOBARS</td>\n",
       "      <td>Arecanut</td>\n",
       "      <td>2009</td>\n",
       "      <td>Autumn</td>\n",
       "      <td>4153.0</td>\n",
       "      <td>3120.0</td>\n",
       "      <td>0.75</td>\n",
       "    </tr>\n",
       "  </tbody>\n",
       "</table>\n",
       "</div>"
      ],
      "text/plain": [
       "                        State District       Crop  Crop_Year       Season  \\\n",
       "0  Andaman and Nicobar Island  NICOBARS  Arecanut       2007  Kharif        \n",
       "1  Andaman and Nicobar Island  NICOBARS  Arecanut       2007  Rabi          \n",
       "2  Andaman and Nicobar Island  NICOBARS  Arecanut       2008  Autumn        \n",
       "3  Andaman and Nicobar Island  NICOBARS  Arecanut       2008  Summer        \n",
       "4  Andaman and Nicobar Island  NICOBARS  Arecanut       2009  Autumn        \n",
       "\n",
       "    Area   Production  Yield  \n",
       "0  2439.6      3415.0   1.40  \n",
       "1  1626.4      2277.0   1.40  \n",
       "2  4147.0      3060.0   0.74  \n",
       "3  4147.0      2660.0   0.64  \n",
       "4  4153.0      3120.0   0.75  "
      ]
     },
     "execution_count": 9,
     "metadata": {},
     "output_type": "execute_result"
    }
   ],
   "source": [
    "df.head()"
   ]
  },
  {
   "cell_type": "code",
   "execution_count": 14,
   "id": "8bd607a6",
   "metadata": {},
   "outputs": [
    {
     "data": {
      "text/html": [
       "<div>\n",
       "<style scoped>\n",
       "    .dataframe tbody tr th:only-of-type {\n",
       "        vertical-align: middle;\n",
       "    }\n",
       "\n",
       "    .dataframe tbody tr th {\n",
       "        vertical-align: top;\n",
       "    }\n",
       "\n",
       "    .dataframe thead th {\n",
       "        text-align: right;\n",
       "    }\n",
       "</style>\n",
       "<table border=\"1\" class=\"dataframe\">\n",
       "  <thead>\n",
       "    <tr style=\"text-align: right;\">\n",
       "      <th></th>\n",
       "      <th>State</th>\n",
       "      <th>District</th>\n",
       "      <th>Crop</th>\n",
       "      <th>Crop_Year</th>\n",
       "      <th>Season</th>\n",
       "      <th>Area</th>\n",
       "      <th>Production</th>\n",
       "      <th>Yield</th>\n",
       "    </tr>\n",
       "  </thead>\n",
       "  <tbody>\n",
       "    <tr>\n",
       "      <th>61129</th>\n",
       "      <td>Bihar</td>\n",
       "      <td>SITAMARHI</td>\n",
       "      <td>Sugarcane</td>\n",
       "      <td>2009</td>\n",
       "      <td>Whole Year</td>\n",
       "      <td>2521.0</td>\n",
       "      <td>84827.0</td>\n",
       "      <td>33.65</td>\n",
       "    </tr>\n",
       "    <tr>\n",
       "      <th>16932</th>\n",
       "      <td>Andhra Pradesh</td>\n",
       "      <td>ANANTAPUR</td>\n",
       "      <td>Wheat</td>\n",
       "      <td>1999</td>\n",
       "      <td>Rabi</td>\n",
       "      <td>439.0</td>\n",
       "      <td>294.0</td>\n",
       "      <td>0.67</td>\n",
       "    </tr>\n",
       "    <tr>\n",
       "      <th>128617</th>\n",
       "      <td>Karnataka</td>\n",
       "      <td>UTTARA KANNADA</td>\n",
       "      <td>Jowar</td>\n",
       "      <td>2002</td>\n",
       "      <td>Summer</td>\n",
       "      <td>5.0</td>\n",
       "      <td>8.0</td>\n",
       "      <td>1.60</td>\n",
       "    </tr>\n",
       "    <tr>\n",
       "      <th>96124</th>\n",
       "      <td>Haryana</td>\n",
       "      <td>JIND</td>\n",
       "      <td>Cotton(lint)</td>\n",
       "      <td>2004</td>\n",
       "      <td>Kharif</td>\n",
       "      <td>49970.0</td>\n",
       "      <td>148000.0</td>\n",
       "      <td>2.96</td>\n",
       "    </tr>\n",
       "    <tr>\n",
       "      <th>328948</th>\n",
       "      <td>Uttarakhand</td>\n",
       "      <td>PITHORAGARH</td>\n",
       "      <td>Other Cereals</td>\n",
       "      <td>2012</td>\n",
       "      <td>Rabi</td>\n",
       "      <td>243.0</td>\n",
       "      <td>120.0</td>\n",
       "      <td>0.49</td>\n",
       "    </tr>\n",
       "  </tbody>\n",
       "</table>\n",
       "</div>"
      ],
      "text/plain": [
       "                 State       District            Crop  Crop_Year       Season  \\\n",
       "61129            Bihar       SITAMARHI      Sugarcane       2009  Whole Year    \n",
       "16932   Andhra Pradesh       ANANTAPUR          Wheat       1999  Rabi          \n",
       "128617       Karnataka  UTTARA KANNADA          Jowar       2002  Summer        \n",
       "96124          Haryana            JIND   Cotton(lint)       2004  Kharif        \n",
       "328948     Uttarakhand     PITHORAGARH  Other Cereals       2012  Rabi          \n",
       "\n",
       "          Area   Production  Yield  \n",
       "61129    2521.0     84827.0  33.65  \n",
       "16932     439.0       294.0   0.67  \n",
       "128617      5.0         8.0   1.60  \n",
       "96124   49970.0    148000.0   2.96  \n",
       "328948    243.0       120.0   0.49  "
      ]
     },
     "execution_count": 14,
     "metadata": {},
     "output_type": "execute_result"
    }
   ],
   "source": [
    "df.sample(5)"
   ]
  },
  {
   "cell_type": "code",
   "execution_count": 15,
   "id": "44c5a40b",
   "metadata": {},
   "outputs": [
    {
     "name": "stdout",
     "output_type": "stream",
     "text": [
      "<class 'pandas.core.frame.DataFrame'>\n",
      "RangeIndex: 345336 entries, 0 to 345335\n",
      "Data columns (total 8 columns):\n",
      " #   Column      Non-Null Count   Dtype  \n",
      "---  ------      --------------   -----  \n",
      " 0   State       345336 non-null  object \n",
      " 1   District    345336 non-null  object \n",
      " 2   Crop        345327 non-null  object \n",
      " 3   Crop_Year   345336 non-null  int64  \n",
      " 4   Season      345336 non-null  object \n",
      " 5   Area        345336 non-null  float64\n",
      " 6   Production  340388 non-null  float64\n",
      " 7   Yield       345336 non-null  float64\n",
      "dtypes: float64(3), int64(1), object(4)\n",
      "memory usage: 21.1+ MB\n"
     ]
    }
   ],
   "source": [
    "df.info()"
   ]
  },
  {
   "cell_type": "code",
   "execution_count": 16,
   "id": "eca094dd",
   "metadata": {},
   "outputs": [
    {
     "data": {
      "text/plain": [
       "State            0\n",
       "District         0\n",
       "Crop             9\n",
       "Crop_Year        0\n",
       "Season           0\n",
       "Area             0\n",
       "Production    4948\n",
       "Yield            0\n",
       "dtype: int64"
      ]
     },
     "execution_count": 16,
     "metadata": {},
     "output_type": "execute_result"
    }
   ],
   "source": [
    "df.isnull().sum()"
   ]
  },
  {
   "cell_type": "code",
   "execution_count": 17,
   "id": "f287c965",
   "metadata": {},
   "outputs": [],
   "source": [
    "# droping null values \n",
    "df.dropna(inplace=True)"
   ]
  },
  {
   "cell_type": "code",
   "execution_count": 18,
   "id": "8f4106d7",
   "metadata": {},
   "outputs": [
    {
     "data": {
      "text/plain": [
       "State         0\n",
       "District      0\n",
       "Crop          0\n",
       "Crop_Year     0\n",
       "Season        0\n",
       "Area          0\n",
       "Production    0\n",
       "Yield         0\n",
       "dtype: int64"
      ]
     },
     "execution_count": 18,
     "metadata": {},
     "output_type": "execute_result"
    }
   ],
   "source": [
    "df.isnull().sum()"
   ]
  },
  {
   "cell_type": "code",
   "execution_count": 19,
   "id": "b2110481",
   "metadata": {},
   "outputs": [
    {
     "data": {
      "text/plain": [
       "0"
      ]
     },
     "execution_count": 19,
     "metadata": {},
     "output_type": "execute_result"
    }
   ],
   "source": [
    "df.duplicated().sum()"
   ]
  },
  {
   "cell_type": "code",
   "execution_count": 20,
   "id": "df01a91e",
   "metadata": {},
   "outputs": [
    {
     "data": {
      "text/html": [
       "<div>\n",
       "<style scoped>\n",
       "    .dataframe tbody tr th:only-of-type {\n",
       "        vertical-align: middle;\n",
       "    }\n",
       "\n",
       "    .dataframe tbody tr th {\n",
       "        vertical-align: top;\n",
       "    }\n",
       "\n",
       "    .dataframe thead th {\n",
       "        text-align: right;\n",
       "    }\n",
       "</style>\n",
       "<table border=\"1\" class=\"dataframe\">\n",
       "  <thead>\n",
       "    <tr style=\"text-align: right;\">\n",
       "      <th></th>\n",
       "      <th>Crop_Year</th>\n",
       "      <th>Area</th>\n",
       "      <th>Production</th>\n",
       "      <th>Yield</th>\n",
       "    </tr>\n",
       "  </thead>\n",
       "  <tbody>\n",
       "    <tr>\n",
       "      <th>count</th>\n",
       "      <td>340383.000000</td>\n",
       "      <td>3.403830e+05</td>\n",
       "      <td>3.403830e+05</td>\n",
       "      <td>340383.000000</td>\n",
       "    </tr>\n",
       "    <tr>\n",
       "      <th>mean</th>\n",
       "      <td>2008.884815</td>\n",
       "      <td>1.182641e+04</td>\n",
       "      <td>9.584867e+05</td>\n",
       "      <td>80.578840</td>\n",
       "    </tr>\n",
       "    <tr>\n",
       "      <th>std</th>\n",
       "      <td>6.574730</td>\n",
       "      <td>4.612680e+04</td>\n",
       "      <td>2.153083e+07</td>\n",
       "      <td>923.273309</td>\n",
       "    </tr>\n",
       "    <tr>\n",
       "      <th>min</th>\n",
       "      <td>1997.000000</td>\n",
       "      <td>8.000000e-03</td>\n",
       "      <td>0.000000e+00</td>\n",
       "      <td>0.000000</td>\n",
       "    </tr>\n",
       "    <tr>\n",
       "      <th>25%</th>\n",
       "      <td>2003.000000</td>\n",
       "      <td>8.000000e+01</td>\n",
       "      <td>8.700000e+01</td>\n",
       "      <td>0.570000</td>\n",
       "    </tr>\n",
       "    <tr>\n",
       "      <th>50%</th>\n",
       "      <td>2009.000000</td>\n",
       "      <td>5.630000e+02</td>\n",
       "      <td>7.180000e+02</td>\n",
       "      <td>1.030000</td>\n",
       "    </tr>\n",
       "    <tr>\n",
       "      <th>75%</th>\n",
       "      <td>2015.000000</td>\n",
       "      <td>4.258000e+03</td>\n",
       "      <td>7.182000e+03</td>\n",
       "      <td>2.500000</td>\n",
       "    </tr>\n",
       "    <tr>\n",
       "      <th>max</th>\n",
       "      <td>2020.000000</td>\n",
       "      <td>8.580100e+06</td>\n",
       "      <td>1.597800e+09</td>\n",
       "      <td>43958.330000</td>\n",
       "    </tr>\n",
       "  </tbody>\n",
       "</table>\n",
       "</div>"
      ],
      "text/plain": [
       "           Crop_Year         Area     Production          Yield\n",
       "count  340383.000000  3.403830e+05  3.403830e+05  340383.000000\n",
       "mean     2008.884815  1.182641e+04  9.584867e+05      80.578840\n",
       "std         6.574730  4.612680e+04  2.153083e+07     923.273309\n",
       "min      1997.000000  8.000000e-03  0.000000e+00       0.000000\n",
       "25%      2003.000000  8.000000e+01  8.700000e+01       0.570000\n",
       "50%      2009.000000  5.630000e+02  7.180000e+02       1.030000\n",
       "75%      2015.000000  4.258000e+03  7.182000e+03       2.500000\n",
       "max      2020.000000  8.580100e+06  1.597800e+09   43958.330000"
      ]
     },
     "execution_count": 20,
     "metadata": {},
     "output_type": "execute_result"
    }
   ],
   "source": [
    "df.describe()"
   ]
  },
  {
   "cell_type": "code",
   "execution_count": 24,
   "id": "6ca8d45a",
   "metadata": {},
   "outputs": [
    {
     "data": {
      "text/plain": [
       "Crop_Year     0.004050\n",
       "Area          0.048521\n",
       "Production    1.000000\n",
       "Yield         0.437400\n",
       "Name: Production, dtype: float64"
      ]
     },
     "execution_count": 24,
     "metadata": {},
     "output_type": "execute_result"
    }
   ],
   "source": [
    "df.corr()['Production']"
   ]
  },
  {
   "cell_type": "markdown",
   "id": "ecc7d5b6",
   "metadata": {},
   "source": [
    "# EDA"
   ]
  },
  {
   "cell_type": "code",
   "execution_count": 14,
   "id": "6bd0774b",
   "metadata": {},
   "outputs": [
    {
     "data": {
      "image/png": "[encoded data removed]",
      "text/plain": [
       "<Figure size 432x288 with 1 Axes>"
      ]
     },
     "metadata": {
      "needs_background": "light"
     },
     "output_type": "display_data"
    }
   ],
   "source": [
    "grouped_df = df.groupby(['Crop_Year'])\n",
    "group_prod=grouped_df['Production'].sum()\n",
    "\n",
    "group_prod.plot(kind='bar',color='red')\n",
    "plt.show()"
   ]
  },
  {
   "cell_type": "code",
   "execution_count": 15,
   "id": "da1a6bc4",
   "metadata": {},
   "outputs": [
    {
     "data": {
      "text/plain": [
       "Crop_Year  Crop     \n",
       "1997       Arecanut      308584.0\n",
       "           Arhar/Tur    1713966.0\n",
       "           Bajra        7413318.0\n",
       "           Banana       1612186.0\n",
       "           Barley       1637528.0\n",
       "Name: Production, dtype: float64"
      ]
     },
     "execution_count": 15,
     "metadata": {},
     "output_type": "execute_result"
    }
   ],
   "source": [
    "grouped_data = df.groupby(['Crop_Year','Crop'])\n",
    "group_prod=grouped_data['Production'].sum()\n",
    "group_prod.head()"
   ]
  },
  {
   "cell_type": "code",
   "execution_count": 16,
   "id": "dbe9f769",
   "metadata": {},
   "outputs": [
    {
     "data": {
      "text/html": [
       "<div>\n",
       "<style scoped>\n",
       "    .dataframe tbody tr th:only-of-type {\n",
       "        vertical-align: middle;\n",
       "    }\n",
       "\n",
       "    .dataframe tbody tr th {\n",
       "        vertical-align: top;\n",
       "    }\n",
       "\n",
       "    .dataframe thead th {\n",
       "        text-align: right;\n",
       "    }\n",
       "</style>\n",
       "<table border=\"1\" class=\"dataframe\">\n",
       "  <thead>\n",
       "    <tr style=\"text-align: right;\">\n",
       "      <th>Crop</th>\n",
       "      <th>Arecanut</th>\n",
       "      <th>Arhar/Tur</th>\n",
       "      <th>Bajra</th>\n",
       "      <th>Banana</th>\n",
       "      <th>Barley</th>\n",
       "      <th>Black pepper</th>\n",
       "      <th>Cardamom</th>\n",
       "      <th>Cashewnut</th>\n",
       "      <th>Castor seed</th>\n",
       "      <th>Coconut</th>\n",
       "      <th>...</th>\n",
       "      <th>Soyabean</th>\n",
       "      <th>Sugarcane</th>\n",
       "      <th>Sunflower</th>\n",
       "      <th>Sweet potato</th>\n",
       "      <th>Tapioca</th>\n",
       "      <th>Tobacco</th>\n",
       "      <th>Turmeric</th>\n",
       "      <th>Urad</th>\n",
       "      <th>Wheat</th>\n",
       "      <th>other oilseeds</th>\n",
       "    </tr>\n",
       "    <tr>\n",
       "      <th>Crop_Year</th>\n",
       "      <th></th>\n",
       "      <th></th>\n",
       "      <th></th>\n",
       "      <th></th>\n",
       "      <th></th>\n",
       "      <th></th>\n",
       "      <th></th>\n",
       "      <th></th>\n",
       "      <th></th>\n",
       "      <th></th>\n",
       "      <th></th>\n",
       "      <th></th>\n",
       "      <th></th>\n",
       "      <th></th>\n",
       "      <th></th>\n",
       "      <th></th>\n",
       "      <th></th>\n",
       "      <th></th>\n",
       "      <th></th>\n",
       "      <th></th>\n",
       "      <th></th>\n",
       "    </tr>\n",
       "  </thead>\n",
       "  <tbody>\n",
       "    <tr>\n",
       "      <th>1997</th>\n",
       "      <td>308584.0</td>\n",
       "      <td>1713966.0</td>\n",
       "      <td>7413318.0</td>\n",
       "      <td>1612186.0</td>\n",
       "      <td>1637528.0</td>\n",
       "      <td>56444.0</td>\n",
       "      <td>1221.0</td>\n",
       "      <td>74142.0</td>\n",
       "      <td>776659.0</td>\n",
       "      <td>5.643107e+09</td>\n",
       "      <td>...</td>\n",
       "      <td>5537713.0</td>\n",
       "      <td>201407054.0</td>\n",
       "      <td>233818.0</td>\n",
       "      <td>235719.0</td>\n",
       "      <td>2881590.0</td>\n",
       "      <td>401209.0</td>\n",
       "      <td>64984.0</td>\n",
       "      <td>785671.0</td>\n",
       "      <td>64704641.0</td>\n",
       "      <td>NaN</td>\n",
       "    </tr>\n",
       "    <tr>\n",
       "      <th>1998</th>\n",
       "      <td>799274.0</td>\n",
       "      <td>2631971.0</td>\n",
       "      <td>7066586.0</td>\n",
       "      <td>6261125.0</td>\n",
       "      <td>1517019.0</td>\n",
       "      <td>79449.0</td>\n",
       "      <td>7144.0</td>\n",
       "      <td>81498.0</td>\n",
       "      <td>837460.0</td>\n",
       "      <td>7.332635e+09</td>\n",
       "      <td>...</td>\n",
       "      <td>7106821.0</td>\n",
       "      <td>266986658.0</td>\n",
       "      <td>776030.0</td>\n",
       "      <td>276023.0</td>\n",
       "      <td>5596386.0</td>\n",
       "      <td>580389.0</td>\n",
       "      <td>202365.0</td>\n",
       "      <td>1160841.0</td>\n",
       "      <td>70678070.0</td>\n",
       "      <td>7731.0</td>\n",
       "    </tr>\n",
       "    <tr>\n",
       "      <th>1999</th>\n",
       "      <td>163905.0</td>\n",
       "      <td>2548362.0</td>\n",
       "      <td>5790675.0</td>\n",
       "      <td>5799103.0</td>\n",
       "      <td>1415660.0</td>\n",
       "      <td>63804.0</td>\n",
       "      <td>8528.0</td>\n",
       "      <td>103339.0</td>\n",
       "      <td>768428.0</td>\n",
       "      <td>7.975608e+09</td>\n",
       "      <td>...</td>\n",
       "      <td>6834358.0</td>\n",
       "      <td>301151204.0</td>\n",
       "      <td>540770.0</td>\n",
       "      <td>588124.0</td>\n",
       "      <td>6010718.0</td>\n",
       "      <td>552414.0</td>\n",
       "      <td>292641.0</td>\n",
       "      <td>1437136.0</td>\n",
       "      <td>75987742.0</td>\n",
       "      <td>NaN</td>\n",
       "    </tr>\n",
       "    <tr>\n",
       "      <th>2000</th>\n",
       "      <td>355415.0</td>\n",
       "      <td>2250868.0</td>\n",
       "      <td>6918314.0</td>\n",
       "      <td>6621168.0</td>\n",
       "      <td>1418426.0</td>\n",
       "      <td>79071.0</td>\n",
       "      <td>8916.0</td>\n",
       "      <td>139275.0</td>\n",
       "      <td>888974.0</td>\n",
       "      <td>9.096443e+09</td>\n",
       "      <td>...</td>\n",
       "      <td>5253274.0</td>\n",
       "      <td>296190249.0</td>\n",
       "      <td>616479.0</td>\n",
       "      <td>474245.0</td>\n",
       "      <td>6825440.0</td>\n",
       "      <td>702893.0</td>\n",
       "      <td>307660.0</td>\n",
       "      <td>1250692.0</td>\n",
       "      <td>69584998.0</td>\n",
       "      <td>436.0</td>\n",
       "    </tr>\n",
       "    <tr>\n",
       "      <th>2001</th>\n",
       "      <td>376514.0</td>\n",
       "      <td>2245522.0</td>\n",
       "      <td>8282554.0</td>\n",
       "      <td>4217203.0</td>\n",
       "      <td>1418042.0</td>\n",
       "      <td>80536.0</td>\n",
       "      <td>9084.0</td>\n",
       "      <td>127931.0</td>\n",
       "      <td>644482.0</td>\n",
       "      <td>8.839858e+09</td>\n",
       "      <td>...</td>\n",
       "      <td>5921466.0</td>\n",
       "      <td>296583374.0</td>\n",
       "      <td>665184.0</td>\n",
       "      <td>487471.0</td>\n",
       "      <td>2653607.0</td>\n",
       "      <td>726130.0</td>\n",
       "      <td>151595.0</td>\n",
       "      <td>1303678.0</td>\n",
       "      <td>72740604.0</td>\n",
       "      <td>126.0</td>\n",
       "    </tr>\n",
       "  </tbody>\n",
       "</table>\n",
       "<p>5 rows × 55 columns</p>\n",
       "</div>"
      ],
      "text/plain": [
       "Crop       Arecanut  Arhar/Tur      Bajra     Banana     Barley  Black pepper  \\\n",
       "Crop_Year                                                                       \n",
       "1997       308584.0  1713966.0  7413318.0  1612186.0  1637528.0       56444.0   \n",
       "1998       799274.0  2631971.0  7066586.0  6261125.0  1517019.0       79449.0   \n",
       "1999       163905.0  2548362.0  5790675.0  5799103.0  1415660.0       63804.0   \n",
       "2000       355415.0  2250868.0  6918314.0  6621168.0  1418426.0       79071.0   \n",
       "2001       376514.0  2245522.0  8282554.0  4217203.0  1418042.0       80536.0   \n",
       "\n",
       "Crop       Cardamom  Cashewnut  Castor seed      Coconut   ...   Soyabean  \\\n",
       "Crop_Year                                                  ...              \n",
       "1997         1221.0    74142.0     776659.0  5.643107e+09  ...  5537713.0   \n",
       "1998         7144.0    81498.0     837460.0  7.332635e+09  ...  7106821.0   \n",
       "1999         8528.0   103339.0     768428.0  7.975608e+09  ...  6834358.0   \n",
       "2000         8916.0   139275.0     888974.0  9.096443e+09  ...  5253274.0   \n",
       "2001         9084.0   127931.0     644482.0  8.839858e+09  ...  5921466.0   \n",
       "\n",
       "Crop         Sugarcane  Sunflower  Sweet potato    Tapioca   Tobacco  \\\n",
       "Crop_Year                                                              \n",
       "1997       201407054.0   233818.0      235719.0  2881590.0  401209.0   \n",
       "1998       266986658.0   776030.0      276023.0  5596386.0  580389.0   \n",
       "1999       301151204.0   540770.0      588124.0  6010718.0  552414.0   \n",
       "2000       296190249.0   616479.0      474245.0  6825440.0  702893.0   \n",
       "2001       296583374.0   665184.0      487471.0  2653607.0  726130.0   \n",
       "\n",
       "Crop       Turmeric       Urad       Wheat  other oilseeds  \n",
       "Crop_Year                                                   \n",
       "1997        64984.0   785671.0  64704641.0             NaN  \n",
       "1998       202365.0  1160841.0  70678070.0          7731.0  \n",
       "1999       292641.0  1437136.0  75987742.0             NaN  \n",
       "2000       307660.0  1250692.0  69584998.0           436.0  \n",
       "2001       151595.0  1303678.0  72740604.0           126.0  \n",
       "\n",
       "[5 rows x 55 columns]"
      ]
     },
     "execution_count": 16,
     "metadata": {},
     "output_type": "execute_result"
    }
   ],
   "source": [
    "group_prod = group_prod.unstack('Crop')\n",
    "group_prod.head()"
   ]
  },
  {
   "cell_type": "code",
   "execution_count": 17,
   "id": "b9534407",
   "metadata": {},
   "outputs": [
    {
     "data": {
      "text/plain": [
       "array([2007, 2008, 2009, 2000, 2001, 2002, 2003, 2004, 2006, 2010, 2011,\n",
       "       2012, 2013, 2014, 2015, 2016, 2017, 2018, 2019, 2005, 1997, 1998,\n",
       "       1999, 2020], dtype=int64)"
      ]
     },
     "execution_count": 17,
     "metadata": {},
     "output_type": "execute_result"
    }
   ],
   "source": [
    "df[\"Crop_Year\"].unique() #Finding the Years of the data"
   ]
  },
  {
   "cell_type": "code",
   "execution_count": 18,
   "id": "35c706dc",
   "metadata": {},
   "outputs": [
    {
     "data": {
      "text/plain": [
       "6"
      ]
     },
     "execution_count": 18,
     "metadata": {},
     "output_type": "execute_result"
    }
   ],
   "source": [
    "df[\"Season\"].nunique()"
   ]
  },
  {
   "cell_type": "code",
   "execution_count": 19,
   "id": "3fa8f78b",
   "metadata": {},
   "outputs": [
    {
     "data": {
      "text/plain": [
       "array(['Kharif     ', 'Rabi       ', 'Autumn     ', 'Summer     ',\n",
       "       'Whole Year ', 'Winter     '], dtype=object)"
      ]
     },
     "execution_count": 19,
     "metadata": {},
     "output_type": "execute_result"
    }
   ],
   "source": [
    "df[\"Season\"].unique() #Finding the Seasons of the data"
   ]
  },
  {
   "cell_type": "code",
   "execution_count": 20,
   "id": "43db5365",
   "metadata": {},
   "outputs": [
    {
     "data": {
      "text/plain": [
       "55"
      ]
     },
     "execution_count": 20,
     "metadata": {},
     "output_type": "execute_result"
    }
   ],
   "source": [
    "df[\"Crop\"].nunique()"
   ]
  },
  {
   "cell_type": "code",
   "execution_count": 21,
   "id": "f78ab9d7",
   "metadata": {},
   "outputs": [
    {
     "name": "stdout",
     "output_type": "stream",
     "text": [
      "There are 55 different types of crops\n",
      "------------------------------------\n",
      "They different types of crops are :- ['Arecanut' 'Arhar/Tur' 'Banana' 'Black pepper' 'Cashewnut' 'Coconut '\n",
      " 'Cowpea(Lobia)' 'Dry chillies' 'Ginger' 'Groundnut' 'Maize'\n",
      " 'Moong(Green Gram)' 'Oilseeds total' 'Other Kharif pulses'\n",
      " 'other oilseeds' 'Rapeseed &Mustard' 'Rice' 'Sesamum' 'Sugarcane'\n",
      " 'Sunflower' 'Sweet potato' 'Tapioca' 'Turmeric' 'Urad' 'Bajra'\n",
      " 'Castor seed' 'Coriander' 'Cotton(lint)' 'Garlic' 'Gram' 'Guar seed'\n",
      " 'Horse-gram' 'Jowar' 'Linseed' 'Masoor' 'Mesta' 'Niger seed' 'Onion'\n",
      " 'Other  Rabi pulses' 'Potato' 'Ragi' 'Safflower' 'Small millets'\n",
      " 'Soyabean' 'Tobacco' 'Wheat' 'Peas & beans (Pulses)' 'Jute' 'Barley'\n",
      " 'Khesari' 'Sannhamp' 'Moth' 'Other Cereals' 'Cardamom'\n",
      " 'Other Summer Pulses']\n"
     ]
    }
   ],
   "source": [
    "no_of_diff_crops = df['Crop'].nunique()\n",
    "types_of_crops = df['Crop'].unique()\n",
    "\n",
    "print('There are {} different types of crops'.format(no_of_diff_crops))\n",
    "print('------------------------------------')\n",
    "print('They different types of crops are :-',types_of_crops)  #Finding the Crop of the data\n"
   ]
  },
  {
   "cell_type": "code",
   "execution_count": 22,
   "id": "4b3fcc5c",
   "metadata": {},
   "outputs": [
    {
     "data": {
      "text/plain": [
       "37"
      ]
     },
     "execution_count": 22,
     "metadata": {},
     "output_type": "execute_result"
    }
   ],
   "source": [
    "df[\"State\"].nunique()"
   ]
  },
  {
   "cell_type": "code",
   "execution_count": 23,
   "id": "4eb44197",
   "metadata": {},
   "outputs": [
    {
     "data": {
      "text/plain": [
       "array(['Andaman and Nicobar Island', 'Andhra Pradesh',\n",
       "       'Arunachal Pradesh', 'Assam', 'Bihar', 'CHANDIGARH',\n",
       "       'Chhattisgarh', 'Dadra and Nagar Haveli', 'Daman and Diu', 'Delhi',\n",
       "       'Goa', 'Gujarat', 'Haryana', 'Himachal Pradesh',\n",
       "       'Jammu and Kashmir', 'Jharkhand', 'Karnataka', 'Kerala', 'Laddak',\n",
       "       'Madhya Pradesh', 'Maharashtra', 'Manipur', 'Meghalaya', 'Mizoram',\n",
       "       'Nagaland', 'Odisha', 'Puducherry', 'Punjab', 'Rajasthan',\n",
       "       'Sikkim', 'Tamil Nadu', 'Telangana', 'THE DADRA AND NAGAR HAVELI',\n",
       "       'Tripura', 'Uttar Pradesh', 'Uttarakhand', 'West Bengal'],\n",
       "      dtype=object)"
      ]
     },
     "execution_count": 23,
     "metadata": {},
     "output_type": "execute_result"
    }
   ],
   "source": [
    "df[\"State\"].unique() #Finding the State of the data"
   ]
  },
  {
   "cell_type": "code",
   "execution_count": 24,
   "id": "47a1b152",
   "metadata": {},
   "outputs": [
    {
     "data": {
      "image/png": "[encoded data removed]",
      "text/plain": [
       "<Figure size 432x288 with 1 Axes>"
      ]
     },
     "metadata": {
      "needs_background": "light"
     },
     "output_type": "display_data"
    }
   ],
   "source": [
    "pl = group_prod.plot.bar(stacked=True)\n",
    "pl.set_xlabel('Crop_Year')\n",
    "pl.set_ylabel('Production')\n",
    "pl.set_title('Production by year and crop')\n",
    "pl.legend(title='Crop', bbox_to_anchor=(1.05, 1), loc='upper left')\n",
    "plt.show()"
   ]
  },
  {
   "cell_type": "code",
   "execution_count": 25,
   "id": "68aeedc9",
   "metadata": {},
   "outputs": [
    {
     "data": {
      "image/png": "[encoded data removed]",
      "text/plain": [
       "<Figure size 432x288 with 1 Axes>"
      ]
     },
     "metadata": {},
     "output_type": "display_data"
    }
   ],
   "source": [
    "group_data = df.groupby('Crop')['Production'].sum()\n",
    "sort_group = group_data.sort_values(ascending=False)\n",
    "top_5_crops = sort_group.index[:5]\n",
    "total_top_5_prod = sort_group.iloc[:10].sum()\n",
    "\n",
    "plt.pie(group_data[top_5_crops], labels=top_5_crops, autopct='%1.1f%%')\n",
    "plt.title(f'Top 5 Crops by Production\\nTotal Production: {total_top_5_prod:,}')\n",
    "plt.show()"
   ]
  },
  {
   "cell_type": "code",
   "execution_count": 28,
   "id": "48a5336d",
   "metadata": {},
   "outputs": [
    {
     "data": {
      "image/png": "[encoded data removed]",
      "text/plain": [
       "<Figure size 432x288 with 1 Axes>"
      ]
     },
     "metadata": {
      "needs_background": "light"
     },
     "output_type": "display_data"
    }
   ],
   "source": [
    "group_data = df.groupby('State')['Production'].sum()\n",
    "group_data = group_data.sort_values(ascending=False)\n",
    "group_data[0:10].plot(kind='bar',color='yellow')\n",
    "plt.title('Top 10 States with highest Production (1997 - 2020)')\n",
    "plt.xlabel('States')\n",
    "plt.ylabel('Production')\n",
    "plt.show()"
   ]
  },
  {
   "cell_type": "code",
   "execution_count": 29,
   "id": "369b754d",
   "metadata": {},
   "outputs": [
    {
     "data": {
      "image/png": "[encoded data removed]",
      "text/plain": [
       "<Figure size 432x288 with 1 Axes>"
      ]
     },
     "metadata": {
      "needs_background": "light"
     },
     "output_type": "display_data"
    }
   ],
   "source": [
    "group_data = df.groupby('State')['Yield'].sum()\n",
    "group_data = group_data.sort_values(ascending=False)\n",
    "group_data[0:10].plot(kind='bar',color='green')\n",
    "plt.title('Top 10 States with highest Yield (1997 - 2020)')\n",
    "plt.xlabel('States')\n",
    "plt.ylabel('Production')\n",
    "plt.show()"
   ]
  },
  {
   "cell_type": "code",
   "execution_count": 30,
   "id": "e1637d99",
   "metadata": {},
   "outputs": [
    {
     "data": {
      "image/png": "[encoded data removed]",
      "text/plain": [
       "<Figure size 432x288 with 1 Axes>"
      ]
     },
     "metadata": {
      "needs_background": "light"
     },
     "output_type": "display_data"
    }
   ],
   "source": [
    "group_data = df.groupby('Crop')['Area '].sum()\n",
    "group_data = group_data.sort_values(ascending=False)\n",
    "group_data[0:10].plot(kind='bar',color='green')\n",
    "plt.title('Top 10 Crops which are cultivated large (1997 - 2020)')\n",
    "plt.xlabel('Crop')\n",
    "plt.ylabel('Area')\n",
    "plt.show()"
   ]
  },
  {
   "cell_type": "code",
   "execution_count": 31,
   "id": "4d8ec63a",
   "metadata": {},
   "outputs": [
    {
     "data": {
      "text/plain": [
       "Index(['State', 'District ', 'Crop', 'Crop_Year', 'Season', 'Area ',\n",
       "       'Production', 'Yield'],\n",
       "      dtype='object')"
      ]
     },
     "execution_count": 31,
     "metadata": {},
     "output_type": "execute_result"
    }
   ],
   "source": [
    "df.columns"
   ]
  },
  {
   "cell_type": "code",
   "execution_count": 32,
   "id": "91c57399",
   "metadata": {},
   "outputs": [
    {
     "data": {
      "text/plain": [
       "State           Tamil Nadu\n",
       "District        COIMBATORE\n",
       "Crop              Coconut \n",
       "Crop_Year             2007\n",
       "Season         Whole Year \n",
       "Area              107106.0\n",
       "Production    1597800000.0\n",
       "Yield             14917.93\n",
       "Name: 258831, dtype: object"
      ]
     },
     "execution_count": 32,
     "metadata": {},
     "output_type": "execute_result"
    }
   ],
   "source": [
    "df.loc[258831]"
   ]
  },
  {
   "cell_type": "code",
   "execution_count": 33,
   "id": "6ead8dcb",
   "metadata": {},
   "outputs": [
    {
     "data": {
      "text/plain": [
       "Kharif         135460\n",
       "Rabi            99444\n",
       "Whole Year      67039\n",
       "Summer          21899\n",
       "Winter           8192\n",
       "Autumn           6884\n",
       "Name: Season, dtype: int64"
      ]
     },
     "execution_count": 33,
     "metadata": {},
     "output_type": "execute_result"
    }
   ],
   "source": [
    "df['Season'].value_counts() #Lets see the different seasons of tamil nadu"
   ]
  },
  {
   "cell_type": "code",
   "execution_count": 34,
   "id": "2f684aeb",
   "metadata": {},
   "outputs": [
    {
     "data": {
      "image/png": "[encoded data removed]",
      "text/plain": [
       "<Figure size 700x500 with 1 Axes>"
      ]
     },
     "metadata": {
      "needs_background": "light"
     },
     "output_type": "display_data"
    }
   ],
   "source": [
    "plt.figure(figsize=(7,5),dpi=100)\n",
    "sns.countplot(data=df,x='Season');"
   ]
  },
  {
   "cell_type": "code",
   "execution_count": 35,
   "id": "dbb4daa3",
   "metadata": {},
   "outputs": [
    {
     "data": {
      "image/png": "[encoded data removed]",
      "text/plain": [
       "<Figure size 700x500 with 1 Axes>"
      ]
     },
     "metadata": {
      "needs_background": "light"
     },
     "output_type": "display_data"
    }
   ],
   "source": [
    "plt.figure(figsize=(7,5),dpi=100)\n",
    "sns.barplot(data=df,x='Season',y='Production');"
   ]
  },
  {
   "cell_type": "code",
   "execution_count": 36,
   "id": "e8389b14",
   "metadata": {},
   "outputs": [],
   "source": [
    "state_prod = df.groupby('State')['Production'].sum().reset_index().sort_values(by='Production',ascending=False)"
   ]
  },
  {
   "cell_type": "code",
   "execution_count": 37,
   "id": "884fcf15",
   "metadata": {},
   "outputs": [
    {
     "data": {
      "text/html": [
       "<div>\n",
       "<style scoped>\n",
       "    .dataframe tbody tr th:only-of-type {\n",
       "        vertical-align: middle;\n",
       "    }\n",
       "\n",
       "    .dataframe tbody tr th {\n",
       "        vertical-align: top;\n",
       "    }\n",
       "\n",
       "    .dataframe thead th {\n",
       "        text-align: right;\n",
       "    }\n",
       "</style>\n",
       "<table border=\"1\" class=\"dataframe\">\n",
       "  <thead>\n",
       "    <tr style=\"text-align: right;\">\n",
       "      <th></th>\n",
       "      <th>State</th>\n",
       "      <th>Production</th>\n",
       "    </tr>\n",
       "  </thead>\n",
       "  <tbody>\n",
       "    <tr>\n",
       "      <th>17</th>\n",
       "      <td>Kerala</td>\n",
       "      <td>1.297006e+11</td>\n",
       "    </tr>\n",
       "    <tr>\n",
       "      <th>31</th>\n",
       "      <td>Tamil Nadu</td>\n",
       "      <td>7.805176e+10</td>\n",
       "    </tr>\n",
       "    <tr>\n",
       "      <th>16</th>\n",
       "      <td>Karnataka</td>\n",
       "      <td>6.377280e+10</td>\n",
       "    </tr>\n",
       "    <tr>\n",
       "      <th>1</th>\n",
       "      <td>Andhra Pradesh</td>\n",
       "      <td>2.607622e+10</td>\n",
       "    </tr>\n",
       "    <tr>\n",
       "      <th>36</th>\n",
       "      <td>West Bengal</td>\n",
       "      <td>8.941179e+09</td>\n",
       "    </tr>\n",
       "    <tr>\n",
       "      <th>34</th>\n",
       "      <td>Uttar Pradesh</td>\n",
       "      <td>4.442585e+09</td>\n",
       "    </tr>\n",
       "    <tr>\n",
       "      <th>3</th>\n",
       "      <td>Assam</td>\n",
       "      <td>3.637715e+09</td>\n",
       "    </tr>\n",
       "    <tr>\n",
       "      <th>10</th>\n",
       "      <td>Goa</td>\n",
       "      <td>2.193998e+09</td>\n",
       "    </tr>\n",
       "    <tr>\n",
       "      <th>0</th>\n",
       "      <td>Andaman and Nicobar Island</td>\n",
       "      <td>2.053350e+09</td>\n",
       "    </tr>\n",
       "    <tr>\n",
       "      <th>20</th>\n",
       "      <td>Maharashtra</td>\n",
       "      <td>1.878565e+09</td>\n",
       "    </tr>\n",
       "    <tr>\n",
       "      <th>19</th>\n",
       "      <td>Madhya Pradesh</td>\n",
       "      <td>8.344903e+08</td>\n",
       "    </tr>\n",
       "    <tr>\n",
       "      <th>11</th>\n",
       "      <td>Gujarat</td>\n",
       "      <td>8.075817e+08</td>\n",
       "    </tr>\n",
       "    <tr>\n",
       "      <th>27</th>\n",
       "      <td>Punjab</td>\n",
       "      <td>7.815514e+08</td>\n",
       "    </tr>\n",
       "    <tr>\n",
       "      <th>12</th>\n",
       "      <td>Haryana</td>\n",
       "      <td>5.897396e+08</td>\n",
       "    </tr>\n",
       "    <tr>\n",
       "      <th>28</th>\n",
       "      <td>Rajasthan</td>\n",
       "      <td>5.891643e+08</td>\n",
       "    </tr>\n",
       "    <tr>\n",
       "      <th>4</th>\n",
       "      <td>Bihar</td>\n",
       "      <td>5.449535e+08</td>\n",
       "    </tr>\n",
       "    <tr>\n",
       "      <th>26</th>\n",
       "      <td>Puducherry</td>\n",
       "      <td>4.938156e+08</td>\n",
       "    </tr>\n",
       "    <tr>\n",
       "      <th>25</th>\n",
       "      <td>Odisha</td>\n",
       "      <td>1.940803e+08</td>\n",
       "    </tr>\n",
       "    <tr>\n",
       "      <th>35</th>\n",
       "      <td>Uttarakhand</td>\n",
       "      <td>1.796973e+08</td>\n",
       "    </tr>\n",
       "    <tr>\n",
       "      <th>32</th>\n",
       "      <td>Telangana</td>\n",
       "      <td>1.477000e+08</td>\n",
       "    </tr>\n",
       "    <tr>\n",
       "      <th>6</th>\n",
       "      <td>Chhattisgarh</td>\n",
       "      <td>1.430966e+08</td>\n",
       "    </tr>\n",
       "    <tr>\n",
       "      <th>15</th>\n",
       "      <td>Jharkhand</td>\n",
       "      <td>4.379385e+07</td>\n",
       "    </tr>\n",
       "    <tr>\n",
       "      <th>13</th>\n",
       "      <td>Himachal Pradesh</td>\n",
       "      <td>3.229715e+07</td>\n",
       "    </tr>\n",
       "    <tr>\n",
       "      <th>14</th>\n",
       "      <td>Jammu and Kashmir</td>\n",
       "      <td>3.029838e+07</td>\n",
       "    </tr>\n",
       "    <tr>\n",
       "      <th>21</th>\n",
       "      <td>Manipur</td>\n",
       "      <td>1.876464e+07</td>\n",
       "    </tr>\n",
       "    <tr>\n",
       "      <th>24</th>\n",
       "      <td>Nagaland</td>\n",
       "      <td>1.874870e+07</td>\n",
       "    </tr>\n",
       "    <tr>\n",
       "      <th>33</th>\n",
       "      <td>Tripura</td>\n",
       "      <td>1.695205e+07</td>\n",
       "    </tr>\n",
       "    <tr>\n",
       "      <th>22</th>\n",
       "      <td>Meghalaya</td>\n",
       "      <td>1.651663e+07</td>\n",
       "    </tr>\n",
       "    <tr>\n",
       "      <th>2</th>\n",
       "      <td>Arunachal Pradesh</td>\n",
       "      <td>9.522010e+06</td>\n",
       "    </tr>\n",
       "    <tr>\n",
       "      <th>23</th>\n",
       "      <td>Mizoram</td>\n",
       "      <td>2.769208e+06</td>\n",
       "    </tr>\n",
       "    <tr>\n",
       "      <th>29</th>\n",
       "      <td>Sikkim</td>\n",
       "      <td>2.744927e+06</td>\n",
       "    </tr>\n",
       "    <tr>\n",
       "      <th>9</th>\n",
       "      <td>Delhi</td>\n",
       "      <td>2.666022e+06</td>\n",
       "    </tr>\n",
       "    <tr>\n",
       "      <th>30</th>\n",
       "      <td>THE DADRA AND NAGAR HAVELI</td>\n",
       "      <td>2.222055e+06</td>\n",
       "    </tr>\n",
       "    <tr>\n",
       "      <th>7</th>\n",
       "      <td>Dadra and Nagar Haveli</td>\n",
       "      <td>3.370930e+05</td>\n",
       "    </tr>\n",
       "    <tr>\n",
       "      <th>18</th>\n",
       "      <td>Laddak</td>\n",
       "      <td>1.145840e+05</td>\n",
       "    </tr>\n",
       "    <tr>\n",
       "      <th>5</th>\n",
       "      <td>CHANDIGARH</td>\n",
       "      <td>8.978200e+04</td>\n",
       "    </tr>\n",
       "    <tr>\n",
       "      <th>8</th>\n",
       "      <td>Daman and Diu</td>\n",
       "      <td>5.926800e+04</td>\n",
       "    </tr>\n",
       "  </tbody>\n",
       "</table>\n",
       "</div>"
      ],
      "text/plain": [
       "                         State    Production\n",
       "17                      Kerala  1.297006e+11\n",
       "31                  Tamil Nadu  7.805176e+10\n",
       "16                   Karnataka  6.377280e+10\n",
       "1               Andhra Pradesh  2.607622e+10\n",
       "36                 West Bengal  8.941179e+09\n",
       "34               Uttar Pradesh  4.442585e+09\n",
       "3                        Assam  3.637715e+09\n",
       "10                         Goa  2.193998e+09\n",
       "0   Andaman and Nicobar Island  2.053350e+09\n",
       "20                 Maharashtra  1.878565e+09\n",
       "19              Madhya Pradesh  8.344903e+08\n",
       "11                     Gujarat  8.075817e+08\n",
       "27                      Punjab  7.815514e+08\n",
       "12                     Haryana  5.897396e+08\n",
       "28                   Rajasthan  5.891643e+08\n",
       "4                        Bihar  5.449535e+08\n",
       "26                  Puducherry  4.938156e+08\n",
       "25                      Odisha  1.940803e+08\n",
       "35                 Uttarakhand  1.796973e+08\n",
       "32                   Telangana  1.477000e+08\n",
       "6                 Chhattisgarh  1.430966e+08\n",
       "15                   Jharkhand  4.379385e+07\n",
       "13            Himachal Pradesh  3.229715e+07\n",
       "14           Jammu and Kashmir  3.029838e+07\n",
       "21                     Manipur  1.876464e+07\n",
       "24                    Nagaland  1.874870e+07\n",
       "33                     Tripura  1.695205e+07\n",
       "22                   Meghalaya  1.651663e+07\n",
       "2            Arunachal Pradesh  9.522010e+06\n",
       "23                     Mizoram  2.769208e+06\n",
       "29                      Sikkim  2.744927e+06\n",
       "9                        Delhi  2.666022e+06\n",
       "30  THE DADRA AND NAGAR HAVELI  2.222055e+06\n",
       "7       Dadra and Nagar Haveli  3.370930e+05\n",
       "18                      Laddak  1.145840e+05\n",
       "5                   CHANDIGARH  8.978200e+04\n",
       "8                Daman and Diu  5.926800e+04"
      ]
     },
     "execution_count": 37,
     "metadata": {},
     "output_type": "execute_result"
    }
   ],
   "source": [
    "state_prod"
   ]
  },
  {
   "cell_type": "code",
   "execution_count": 38,
   "id": "35c97947",
   "metadata": {},
   "outputs": [
    {
     "data": {
      "text/plain": [
       "State\n",
       "Kerala            1.297006e+11\n",
       "Tamil Nadu        7.805176e+10\n",
       "Karnataka         6.377280e+10\n",
       "Andhra Pradesh    2.607622e+10\n",
       "West Bengal       8.941179e+09\n",
       "Name: Production, dtype: float64"
      ]
     },
     "execution_count": 38,
     "metadata": {},
     "output_type": "execute_result"
    }
   ],
   "source": [
    "df.groupby('State').sum()['Production'].nlargest()#Let's see the top 5 states with most production over the years"
   ]
  },
  {
   "cell_type": "code",
   "execution_count": 39,
   "id": "be78bc2a",
   "metadata": {},
   "outputs": [
    {
     "data": {
      "text/plain": [
       "State\n",
       "Daman and Diu                   59268.0\n",
       "CHANDIGARH                      89782.0\n",
       "Laddak                         114584.0\n",
       "Dadra and Nagar Haveli         337093.0\n",
       "THE DADRA AND NAGAR HAVELI    2222055.0\n",
       "Name: Production, dtype: float64"
      ]
     },
     "execution_count": 39,
     "metadata": {},
     "output_type": "execute_result"
    }
   ],
   "source": [
    "df.groupby(\"State\").sum()['Production'].nsmallest()"
   ]
  },
  {
   "cell_type": "code",
   "execution_count": 40,
   "id": "dacf779e",
   "metadata": {},
   "outputs": [
    {
     "data": {
      "text/plain": [
       "Crop\n",
       "Coconut      3.108048e+11\n",
       "Sugarcane    7.249507e+09\n",
       "Rice         2.236428e+09\n",
       "Wheat        2.007360e+09\n",
       "Potato       6.323157e+08\n",
       "Name: Production, dtype: float64"
      ]
     },
     "execution_count": 40,
     "metadata": {},
     "output_type": "execute_result"
    }
   ],
   "source": [
    "df.groupby('Crop').sum()['Production'].nlargest()"
   ]
  },
  {
   "cell_type": "code",
   "execution_count": 41,
   "id": "9c1540fb",
   "metadata": {},
   "outputs": [
    {
     "data": {
      "text/plain": [
       "Crop\n",
       "Other Summer Pulses       8394.0\n",
       "Cardamom                255497.0\n",
       "Sannhamp                433530.0\n",
       "Cowpea(Lobia)           745568.0\n",
       "Other Cereals          1682056.0\n",
       "Name: Production, dtype: float64"
      ]
     },
     "execution_count": 41,
     "metadata": {},
     "output_type": "execute_result"
    }
   ],
   "source": [
    "df.groupby('Crop').sum()['Production'].nsmallest()"
   ]
  },
  {
   "cell_type": "code",
   "execution_count": 42,
   "id": "6d3cd763",
   "metadata": {},
   "outputs": [
    {
     "data": {
      "image/png": "[encoded data removed]",
      "text/plain": [
       "<Figure size 900x700 with 1 Axes>"
      ]
     },
     "metadata": {
      "needs_background": "light"
     },
     "output_type": "display_data"
    }
   ],
   "source": [
    "plt.figure(figsize=(9,7),dpi=100)\n",
    "sns.countplot(data=df,y='Crop_Year'); "
   ]
  },
  {
   "cell_type": "code",
   "execution_count": 43,
   "id": "e1893f09",
   "metadata": {},
   "outputs": [
    {
     "data": {
      "image/png": "[encoded data removed]",
      "text/plain": [
       "<Figure size 900x700 with 1 Axes>"
      ]
     },
     "metadata": {
      "needs_background": "light"
     },
     "output_type": "display_data"
    }
   ],
   "source": [
    "plt.figure(figsize=(9,7),dpi=100)\n",
    "sns.lineplot(data=df,x='Crop_Year',y='Production');"
   ]
  },
  {
   "cell_type": "code",
   "execution_count": 44,
   "id": "5c1f9946",
   "metadata": {},
   "outputs": [
    {
     "data": {
      "image/png": "[encoded data removed]",
      "text/plain": [
       "<Figure size 1200x900 with 1 Axes>"
      ]
     },
     "metadata": {
      "needs_background": "light"
     },
     "output_type": "display_data"
    }
   ],
   "source": [
    "plt.figure(figsize=(12,9),dpi=100)\n",
    "sns.barplot(data=df,x='Crop_Year',y='Production',palette='viridis');"
   ]
  },
  {
   "cell_type": "code",
   "execution_count": 45,
   "id": "082ea921",
   "metadata": {},
   "outputs": [
    {
     "data": {
      "text/plain": [
       "Season\n",
       "Whole Year     3.165636e+11\n",
       "Kharif         5.622335e+09\n",
       "Rabi           3.150455e+09\n",
       "Winter         5.877505e+08\n",
       "Summer         2.437629e+08\n",
       "Name: Production, dtype: float64"
      ]
     },
     "execution_count": 45,
     "metadata": {},
     "output_type": "execute_result"
    }
   ],
   "source": [
    "df.groupby('Season').sum()['Production'].nlargest()"
   ]
  },
  {
   "cell_type": "code",
   "execution_count": 46,
   "id": "6b593247",
   "metadata": {},
   "outputs": [
    {
     "data": {
      "text/plain": [
       "Rice                     21566\n",
       "Maize                    20267\n",
       "Moong(Green Gram)        14713\n",
       "Urad                     14296\n",
       "Sesamum                  12541\n",
       "Groundnut                12470\n",
       "Wheat                    11204\n",
       "Rapeseed &Mustard        10873\n",
       "Sugarcane                10812\n",
       "Arhar/Tur                10737\n",
       "Potato                   10725\n",
       "Onion                    10616\n",
       "Gram                     10286\n",
       "Jowar                     9653\n",
       "Dry chillies              8868\n",
       "Bajra                     8063\n",
       "Peas & beans (Pulses)     7147\n",
       "Sunflower                 7077\n",
       "Small millets             6815\n",
       "Cotton(lint)              6284\n",
       "Masoor                    6267\n",
       "Barley                    5769\n",
       "Linseed                   5758\n",
       "Ragi                      5679\n",
       "Sweet potato              5645\n",
       "Other Kharif pulses       5562\n",
       "Turmeric                  5561\n",
       "Horse-gram                5265\n",
       "Garlic                    5192\n",
       "Coriander                 4950\n",
       "Soyabean                  4947\n",
       "Other  Rabi pulses        4694\n",
       "Castor seed               4476\n",
       "Ginger                    4406\n",
       "Banana                    4013\n",
       "Tobacco                   3851\n",
       "Coconut                   2890\n",
       "Niger seed                2809\n",
       "Sannhamp                  2694\n",
       "Mesta                     2373\n",
       "Tapioca                   2263\n",
       "Arecanut                  2150\n",
       "Guar seed                 2045\n",
       "Jute                      1837\n",
       "Khesari                   1753\n",
       "Safflower                 1700\n",
       "Cowpea(Lobia)             1696\n",
       "Cashewnut                 1515\n",
       "Black pepper              1363\n",
       "Other Cereals             1332\n",
       "Moth                      1312\n",
       "other oilseeds            1161\n",
       "Cardamom                   476\n",
       "Oilseeds total             435\n",
       "Other Summer Pulses         66\n",
       "Name: Crop, dtype: int64"
      ]
     },
     "execution_count": 46,
     "metadata": {},
     "output_type": "execute_result"
    }
   ],
   "source": [
    "df['Crop'].value_counts()"
   ]
  },
  {
   "cell_type": "code",
   "execution_count": 47,
   "id": "373af1f7",
   "metadata": {},
   "outputs": [
    {
     "data": {
      "text/html": [
       "<div>\n",
       "<style scoped>\n",
       "    .dataframe tbody tr th:only-of-type {\n",
       "        vertical-align: middle;\n",
       "    }\n",
       "\n",
       "    .dataframe tbody tr th {\n",
       "        vertical-align: top;\n",
       "    }\n",
       "\n",
       "    .dataframe thead th {\n",
       "        text-align: right;\n",
       "    }\n",
       "</style>\n",
       "<table border=\"1\" class=\"dataframe\">\n",
       "  <thead>\n",
       "    <tr style=\"text-align: right;\">\n",
       "      <th></th>\n",
       "      <th>Crop</th>\n",
       "      <th>Production</th>\n",
       "    </tr>\n",
       "  </thead>\n",
       "  <tbody>\n",
       "    <tr>\n",
       "      <th>0</th>\n",
       "      <td>Coconut</td>\n",
       "      <td>3.108048e+11</td>\n",
       "    </tr>\n",
       "    <tr>\n",
       "      <th>1</th>\n",
       "      <td>Sugarcane</td>\n",
       "      <td>7.249507e+09</td>\n",
       "    </tr>\n",
       "    <tr>\n",
       "      <th>2</th>\n",
       "      <td>Rice</td>\n",
       "      <td>2.236428e+09</td>\n",
       "    </tr>\n",
       "    <tr>\n",
       "      <th>3</th>\n",
       "      <td>Wheat</td>\n",
       "      <td>2.007360e+09</td>\n",
       "    </tr>\n",
       "    <tr>\n",
       "      <th>4</th>\n",
       "      <td>Potato</td>\n",
       "      <td>6.323157e+08</td>\n",
       "    </tr>\n",
       "    <tr>\n",
       "      <th>5</th>\n",
       "      <td>Cotton(lint)</td>\n",
       "      <td>4.839080e+08</td>\n",
       "    </tr>\n",
       "    <tr>\n",
       "      <th>6</th>\n",
       "      <td>Maize</td>\n",
       "      <td>4.440007e+08</td>\n",
       "    </tr>\n",
       "    <tr>\n",
       "      <th>7</th>\n",
       "      <td>Jute</td>\n",
       "      <td>2.304238e+08</td>\n",
       "    </tr>\n",
       "    <tr>\n",
       "      <th>8</th>\n",
       "      <td>Banana</td>\n",
       "      <td>2.267633e+08</td>\n",
       "    </tr>\n",
       "    <tr>\n",
       "      <th>9</th>\n",
       "      <td>Soyabean</td>\n",
       "      <td>2.117965e+08</td>\n",
       "    </tr>\n",
       "    <tr>\n",
       "      <th>10</th>\n",
       "      <td>Bajra</td>\n",
       "      <td>2.011004e+08</td>\n",
       "    </tr>\n",
       "    <tr>\n",
       "      <th>11</th>\n",
       "      <td>Groundnut</td>\n",
       "      <td>1.638321e+08</td>\n",
       "    </tr>\n",
       "    <tr>\n",
       "      <th>12</th>\n",
       "      <td>Gram</td>\n",
       "      <td>1.602564e+08</td>\n",
       "    </tr>\n",
       "    <tr>\n",
       "      <th>13</th>\n",
       "      <td>Rapeseed &amp;Mustard</td>\n",
       "      <td>1.498361e+08</td>\n",
       "    </tr>\n",
       "    <tr>\n",
       "      <th>14</th>\n",
       "      <td>Jowar</td>\n",
       "      <td>1.492559e+08</td>\n",
       "    </tr>\n",
       "    <tr>\n",
       "      <th>15</th>\n",
       "      <td>Onion</td>\n",
       "      <td>1.333439e+08</td>\n",
       "    </tr>\n",
       "    <tr>\n",
       "      <th>16</th>\n",
       "      <td>Tapioca</td>\n",
       "      <td>1.309181e+08</td>\n",
       "    </tr>\n",
       "    <tr>\n",
       "      <th>17</th>\n",
       "      <td>Arhar/Tur</td>\n",
       "      <td>6.126078e+07</td>\n",
       "    </tr>\n",
       "    <tr>\n",
       "      <th>18</th>\n",
       "      <td>Ragi</td>\n",
       "      <td>4.425372e+07</td>\n",
       "    </tr>\n",
       "    <tr>\n",
       "      <th>19</th>\n",
       "      <td>Niger seed</td>\n",
       "      <td>4.064363e+07</td>\n",
       "    </tr>\n",
       "    <tr>\n",
       "      <th>20</th>\n",
       "      <td>Arecanut</td>\n",
       "      <td>3.929935e+07</td>\n",
       "    </tr>\n",
       "    <tr>\n",
       "      <th>21</th>\n",
       "      <td>Urad</td>\n",
       "      <td>3.788802e+07</td>\n",
       "    </tr>\n",
       "    <tr>\n",
       "      <th>22</th>\n",
       "      <td>Barley</td>\n",
       "      <td>3.506933e+07</td>\n",
       "    </tr>\n",
       "    <tr>\n",
       "      <th>23</th>\n",
       "      <td>Moong(Green Gram)</td>\n",
       "      <td>3.239899e+07</td>\n",
       "    </tr>\n",
       "    <tr>\n",
       "      <th>24</th>\n",
       "      <td>Guar seed</td>\n",
       "      <td>3.132193e+07</td>\n",
       "    </tr>\n",
       "    <tr>\n",
       "      <th>25</th>\n",
       "      <td>Castor seed</td>\n",
       "      <td>2.794935e+07</td>\n",
       "    </tr>\n",
       "    <tr>\n",
       "      <th>26</th>\n",
       "      <td>Dry chillies</td>\n",
       "      <td>2.653440e+07</td>\n",
       "    </tr>\n",
       "    <tr>\n",
       "      <th>27</th>\n",
       "      <td>Garlic</td>\n",
       "      <td>2.319512e+07</td>\n",
       "    </tr>\n",
       "    <tr>\n",
       "      <th>28</th>\n",
       "      <td>Tobacco</td>\n",
       "      <td>2.110247e+07</td>\n",
       "    </tr>\n",
       "    <tr>\n",
       "      <th>29</th>\n",
       "      <td>Masoor</td>\n",
       "      <td>2.041273e+07</td>\n",
       "    </tr>\n",
       "    <tr>\n",
       "      <th>30</th>\n",
       "      <td>Ginger</td>\n",
       "      <td>1.771734e+07</td>\n",
       "    </tr>\n",
       "    <tr>\n",
       "      <th>31</th>\n",
       "      <td>Oilseeds total</td>\n",
       "      <td>1.753557e+07</td>\n",
       "    </tr>\n",
       "    <tr>\n",
       "      <th>32</th>\n",
       "      <td>Sesamum</td>\n",
       "      <td>1.574223e+07</td>\n",
       "    </tr>\n",
       "    <tr>\n",
       "      <th>33</th>\n",
       "      <td>Peas &amp; beans (Pulses)</td>\n",
       "      <td>1.480003e+07</td>\n",
       "    </tr>\n",
       "    <tr>\n",
       "      <th>34</th>\n",
       "      <td>Sunflower</td>\n",
       "      <td>1.464568e+07</td>\n",
       "    </tr>\n",
       "    <tr>\n",
       "      <th>35</th>\n",
       "      <td>Mesta</td>\n",
       "      <td>1.405361e+07</td>\n",
       "    </tr>\n",
       "    <tr>\n",
       "      <th>36</th>\n",
       "      <td>Small millets</td>\n",
       "      <td>1.356192e+07</td>\n",
       "    </tr>\n",
       "    <tr>\n",
       "      <th>37</th>\n",
       "      <td>other oilseeds</td>\n",
       "      <td>1.181828e+07</td>\n",
       "    </tr>\n",
       "    <tr>\n",
       "      <th>38</th>\n",
       "      <td>Sweet potato</td>\n",
       "      <td>1.055358e+07</td>\n",
       "    </tr>\n",
       "    <tr>\n",
       "      <th>39</th>\n",
       "      <td>Turmeric</td>\n",
       "      <td>9.706411e+06</td>\n",
       "    </tr>\n",
       "    <tr>\n",
       "      <th>40</th>\n",
       "      <td>Coriander</td>\n",
       "      <td>7.355907e+06</td>\n",
       "    </tr>\n",
       "    <tr>\n",
       "      <th>41</th>\n",
       "      <td>Moth</td>\n",
       "      <td>7.251608e+06</td>\n",
       "    </tr>\n",
       "    <tr>\n",
       "      <th>42</th>\n",
       "      <td>Khesari</td>\n",
       "      <td>7.115452e+06</td>\n",
       "    </tr>\n",
       "    <tr>\n",
       "      <th>43</th>\n",
       "      <td>Other  Rabi pulses</td>\n",
       "      <td>6.664952e+06</td>\n",
       "    </tr>\n",
       "    <tr>\n",
       "      <th>44</th>\n",
       "      <td>Other Kharif pulses</td>\n",
       "      <td>6.133466e+06</td>\n",
       "    </tr>\n",
       "    <tr>\n",
       "      <th>45</th>\n",
       "      <td>Horse-gram</td>\n",
       "      <td>5.276790e+06</td>\n",
       "    </tr>\n",
       "    <tr>\n",
       "      <th>46</th>\n",
       "      <td>Cashewnut</td>\n",
       "      <td>3.740786e+06</td>\n",
       "    </tr>\n",
       "    <tr>\n",
       "      <th>47</th>\n",
       "      <td>Linseed</td>\n",
       "      <td>3.298069e+06</td>\n",
       "    </tr>\n",
       "    <tr>\n",
       "      <th>48</th>\n",
       "      <td>Safflower</td>\n",
       "      <td>3.241790e+06</td>\n",
       "    </tr>\n",
       "    <tr>\n",
       "      <th>49</th>\n",
       "      <td>Black pepper</td>\n",
       "      <td>2.097317e+06</td>\n",
       "    </tr>\n",
       "    <tr>\n",
       "      <th>50</th>\n",
       "      <td>Other Cereals</td>\n",
       "      <td>1.682056e+06</td>\n",
       "    </tr>\n",
       "    <tr>\n",
       "      <th>51</th>\n",
       "      <td>Cowpea(Lobia)</td>\n",
       "      <td>7.455680e+05</td>\n",
       "    </tr>\n",
       "    <tr>\n",
       "      <th>52</th>\n",
       "      <td>Sannhamp</td>\n",
       "      <td>4.335300e+05</td>\n",
       "    </tr>\n",
       "    <tr>\n",
       "      <th>53</th>\n",
       "      <td>Cardamom</td>\n",
       "      <td>2.554970e+05</td>\n",
       "    </tr>\n",
       "    <tr>\n",
       "      <th>54</th>\n",
       "      <td>Other Summer Pulses</td>\n",
       "      <td>8.394000e+03</td>\n",
       "    </tr>\n",
       "  </tbody>\n",
       "</table>\n",
       "</div>"
      ],
      "text/plain": [
       "                     Crop    Production\n",
       "0                Coconut   3.108048e+11\n",
       "1               Sugarcane  7.249507e+09\n",
       "2                    Rice  2.236428e+09\n",
       "3                   Wheat  2.007360e+09\n",
       "4                  Potato  6.323157e+08\n",
       "5            Cotton(lint)  4.839080e+08\n",
       "6                   Maize  4.440007e+08\n",
       "7                    Jute  2.304238e+08\n",
       "8                  Banana  2.267633e+08\n",
       "9                Soyabean  2.117965e+08\n",
       "10                  Bajra  2.011004e+08\n",
       "11              Groundnut  1.638321e+08\n",
       "12                   Gram  1.602564e+08\n",
       "13      Rapeseed &Mustard  1.498361e+08\n",
       "14                  Jowar  1.492559e+08\n",
       "15                  Onion  1.333439e+08\n",
       "16                Tapioca  1.309181e+08\n",
       "17              Arhar/Tur  6.126078e+07\n",
       "18                   Ragi  4.425372e+07\n",
       "19             Niger seed  4.064363e+07\n",
       "20               Arecanut  3.929935e+07\n",
       "21                   Urad  3.788802e+07\n",
       "22                 Barley  3.506933e+07\n",
       "23      Moong(Green Gram)  3.239899e+07\n",
       "24              Guar seed  3.132193e+07\n",
       "25            Castor seed  2.794935e+07\n",
       "26           Dry chillies  2.653440e+07\n",
       "27                 Garlic  2.319512e+07\n",
       "28                Tobacco  2.110247e+07\n",
       "29                 Masoor  2.041273e+07\n",
       "30                 Ginger  1.771734e+07\n",
       "31         Oilseeds total  1.753557e+07\n",
       "32                Sesamum  1.574223e+07\n",
       "33  Peas & beans (Pulses)  1.480003e+07\n",
       "34              Sunflower  1.464568e+07\n",
       "35                  Mesta  1.405361e+07\n",
       "36          Small millets  1.356192e+07\n",
       "37         other oilseeds  1.181828e+07\n",
       "38           Sweet potato  1.055358e+07\n",
       "39               Turmeric  9.706411e+06\n",
       "40              Coriander  7.355907e+06\n",
       "41                   Moth  7.251608e+06\n",
       "42                Khesari  7.115452e+06\n",
       "43     Other  Rabi pulses  6.664952e+06\n",
       "44    Other Kharif pulses  6.133466e+06\n",
       "45             Horse-gram  5.276790e+06\n",
       "46              Cashewnut  3.740786e+06\n",
       "47                Linseed  3.298069e+06\n",
       "48              Safflower  3.241790e+06\n",
       "49           Black pepper  2.097317e+06\n",
       "50          Other Cereals  1.682056e+06\n",
       "51          Cowpea(Lobia)  7.455680e+05\n",
       "52               Sannhamp  4.335300e+05\n",
       "53               Cardamom  2.554970e+05\n",
       "54    Other Summer Pulses  8.394000e+03"
      ]
     },
     "execution_count": 47,
     "metadata": {},
     "output_type": "execute_result"
    }
   ],
   "source": [
    "india_top_prod = df.groupby('Crop').sum()['Production'].nlargest(55).reset_index()\n",
    "india_top_prod"
   ]
  },
  {
   "cell_type": "code",
   "execution_count": 48,
   "id": "984d2554",
   "metadata": {},
   "outputs": [
    {
     "data": {
      "text/plain": [
       "<AxesSubplot:xlabel='Production', ylabel='Crop'>"
      ]
     },
     "execution_count": 48,
     "metadata": {},
     "output_type": "execute_result"
    },
    {
     "data": {
      "image/png": "[encoded data removed]",
      "text/plain": [
       "<Figure size 1000x1000 with 1 Axes>"
      ]
     },
     "metadata": {
      "needs_background": "light"
     },
     "output_type": "display_data"
    }
   ],
   "source": [
    "plt.figure(figsize=(10,10),dpi=100)\n",
    "sns.barplot(data=india_top_prod,x='Production',y='Crop')"
   ]
  },
  {
   "cell_type": "code",
   "execution_count": 49,
   "id": "57278e59",
   "metadata": {},
   "outputs": [
    {
     "data": {
      "text/html": [
       "<div>\n",
       "<style scoped>\n",
       "    .dataframe tbody tr th:only-of-type {\n",
       "        vertical-align: middle;\n",
       "    }\n",
       "\n",
       "    .dataframe tbody tr th {\n",
       "        vertical-align: top;\n",
       "    }\n",
       "\n",
       "    .dataframe thead th {\n",
       "        text-align: right;\n",
       "    }\n",
       "</style>\n",
       "<table border=\"1\" class=\"dataframe\">\n",
       "  <thead>\n",
       "    <tr style=\"text-align: right;\">\n",
       "      <th></th>\n",
       "      <th>Crop</th>\n",
       "      <th>Production</th>\n",
       "    </tr>\n",
       "  </thead>\n",
       "  <tbody>\n",
       "    <tr>\n",
       "      <th>0</th>\n",
       "      <td>Other Summer Pulses</td>\n",
       "      <td>8.394000e+03</td>\n",
       "    </tr>\n",
       "    <tr>\n",
       "      <th>1</th>\n",
       "      <td>Cardamom</td>\n",
       "      <td>2.554970e+05</td>\n",
       "    </tr>\n",
       "    <tr>\n",
       "      <th>2</th>\n",
       "      <td>Sannhamp</td>\n",
       "      <td>4.335300e+05</td>\n",
       "    </tr>\n",
       "    <tr>\n",
       "      <th>3</th>\n",
       "      <td>Cowpea(Lobia)</td>\n",
       "      <td>7.455680e+05</td>\n",
       "    </tr>\n",
       "    <tr>\n",
       "      <th>4</th>\n",
       "      <td>Other Cereals</td>\n",
       "      <td>1.682056e+06</td>\n",
       "    </tr>\n",
       "    <tr>\n",
       "      <th>5</th>\n",
       "      <td>Black pepper</td>\n",
       "      <td>2.097317e+06</td>\n",
       "    </tr>\n",
       "    <tr>\n",
       "      <th>6</th>\n",
       "      <td>Safflower</td>\n",
       "      <td>3.241790e+06</td>\n",
       "    </tr>\n",
       "    <tr>\n",
       "      <th>7</th>\n",
       "      <td>Linseed</td>\n",
       "      <td>3.298069e+06</td>\n",
       "    </tr>\n",
       "    <tr>\n",
       "      <th>8</th>\n",
       "      <td>Cashewnut</td>\n",
       "      <td>3.740786e+06</td>\n",
       "    </tr>\n",
       "    <tr>\n",
       "      <th>9</th>\n",
       "      <td>Horse-gram</td>\n",
       "      <td>5.276790e+06</td>\n",
       "    </tr>\n",
       "    <tr>\n",
       "      <th>10</th>\n",
       "      <td>Other Kharif pulses</td>\n",
       "      <td>6.133466e+06</td>\n",
       "    </tr>\n",
       "    <tr>\n",
       "      <th>11</th>\n",
       "      <td>Other  Rabi pulses</td>\n",
       "      <td>6.664952e+06</td>\n",
       "    </tr>\n",
       "    <tr>\n",
       "      <th>12</th>\n",
       "      <td>Khesari</td>\n",
       "      <td>7.115452e+06</td>\n",
       "    </tr>\n",
       "    <tr>\n",
       "      <th>13</th>\n",
       "      <td>Moth</td>\n",
       "      <td>7.251608e+06</td>\n",
       "    </tr>\n",
       "    <tr>\n",
       "      <th>14</th>\n",
       "      <td>Coriander</td>\n",
       "      <td>7.355907e+06</td>\n",
       "    </tr>\n",
       "    <tr>\n",
       "      <th>15</th>\n",
       "      <td>Turmeric</td>\n",
       "      <td>9.706411e+06</td>\n",
       "    </tr>\n",
       "    <tr>\n",
       "      <th>16</th>\n",
       "      <td>Sweet potato</td>\n",
       "      <td>1.055358e+07</td>\n",
       "    </tr>\n",
       "    <tr>\n",
       "      <th>17</th>\n",
       "      <td>other oilseeds</td>\n",
       "      <td>1.181828e+07</td>\n",
       "    </tr>\n",
       "    <tr>\n",
       "      <th>18</th>\n",
       "      <td>Small millets</td>\n",
       "      <td>1.356192e+07</td>\n",
       "    </tr>\n",
       "    <tr>\n",
       "      <th>19</th>\n",
       "      <td>Mesta</td>\n",
       "      <td>1.405361e+07</td>\n",
       "    </tr>\n",
       "    <tr>\n",
       "      <th>20</th>\n",
       "      <td>Sunflower</td>\n",
       "      <td>1.464568e+07</td>\n",
       "    </tr>\n",
       "    <tr>\n",
       "      <th>21</th>\n",
       "      <td>Peas &amp; beans (Pulses)</td>\n",
       "      <td>1.480003e+07</td>\n",
       "    </tr>\n",
       "    <tr>\n",
       "      <th>22</th>\n",
       "      <td>Sesamum</td>\n",
       "      <td>1.574223e+07</td>\n",
       "    </tr>\n",
       "    <tr>\n",
       "      <th>23</th>\n",
       "      <td>Oilseeds total</td>\n",
       "      <td>1.753557e+07</td>\n",
       "    </tr>\n",
       "    <tr>\n",
       "      <th>24</th>\n",
       "      <td>Ginger</td>\n",
       "      <td>1.771734e+07</td>\n",
       "    </tr>\n",
       "    <tr>\n",
       "      <th>25</th>\n",
       "      <td>Masoor</td>\n",
       "      <td>2.041273e+07</td>\n",
       "    </tr>\n",
       "    <tr>\n",
       "      <th>26</th>\n",
       "      <td>Tobacco</td>\n",
       "      <td>2.110247e+07</td>\n",
       "    </tr>\n",
       "    <tr>\n",
       "      <th>27</th>\n",
       "      <td>Garlic</td>\n",
       "      <td>2.319512e+07</td>\n",
       "    </tr>\n",
       "    <tr>\n",
       "      <th>28</th>\n",
       "      <td>Dry chillies</td>\n",
       "      <td>2.653440e+07</td>\n",
       "    </tr>\n",
       "    <tr>\n",
       "      <th>29</th>\n",
       "      <td>Castor seed</td>\n",
       "      <td>2.794935e+07</td>\n",
       "    </tr>\n",
       "    <tr>\n",
       "      <th>30</th>\n",
       "      <td>Guar seed</td>\n",
       "      <td>3.132193e+07</td>\n",
       "    </tr>\n",
       "    <tr>\n",
       "      <th>31</th>\n",
       "      <td>Moong(Green Gram)</td>\n",
       "      <td>3.239899e+07</td>\n",
       "    </tr>\n",
       "    <tr>\n",
       "      <th>32</th>\n",
       "      <td>Barley</td>\n",
       "      <td>3.506933e+07</td>\n",
       "    </tr>\n",
       "    <tr>\n",
       "      <th>33</th>\n",
       "      <td>Urad</td>\n",
       "      <td>3.788802e+07</td>\n",
       "    </tr>\n",
       "    <tr>\n",
       "      <th>34</th>\n",
       "      <td>Arecanut</td>\n",
       "      <td>3.929935e+07</td>\n",
       "    </tr>\n",
       "    <tr>\n",
       "      <th>35</th>\n",
       "      <td>Niger seed</td>\n",
       "      <td>4.064363e+07</td>\n",
       "    </tr>\n",
       "    <tr>\n",
       "      <th>36</th>\n",
       "      <td>Ragi</td>\n",
       "      <td>4.425372e+07</td>\n",
       "    </tr>\n",
       "    <tr>\n",
       "      <th>37</th>\n",
       "      <td>Arhar/Tur</td>\n",
       "      <td>6.126078e+07</td>\n",
       "    </tr>\n",
       "    <tr>\n",
       "      <th>38</th>\n",
       "      <td>Tapioca</td>\n",
       "      <td>1.309181e+08</td>\n",
       "    </tr>\n",
       "    <tr>\n",
       "      <th>39</th>\n",
       "      <td>Onion</td>\n",
       "      <td>1.333439e+08</td>\n",
       "    </tr>\n",
       "    <tr>\n",
       "      <th>40</th>\n",
       "      <td>Jowar</td>\n",
       "      <td>1.492559e+08</td>\n",
       "    </tr>\n",
       "    <tr>\n",
       "      <th>41</th>\n",
       "      <td>Rapeseed &amp;Mustard</td>\n",
       "      <td>1.498361e+08</td>\n",
       "    </tr>\n",
       "    <tr>\n",
       "      <th>42</th>\n",
       "      <td>Gram</td>\n",
       "      <td>1.602564e+08</td>\n",
       "    </tr>\n",
       "    <tr>\n",
       "      <th>43</th>\n",
       "      <td>Groundnut</td>\n",
       "      <td>1.638321e+08</td>\n",
       "    </tr>\n",
       "    <tr>\n",
       "      <th>44</th>\n",
       "      <td>Bajra</td>\n",
       "      <td>2.011004e+08</td>\n",
       "    </tr>\n",
       "    <tr>\n",
       "      <th>45</th>\n",
       "      <td>Soyabean</td>\n",
       "      <td>2.117965e+08</td>\n",
       "    </tr>\n",
       "    <tr>\n",
       "      <th>46</th>\n",
       "      <td>Banana</td>\n",
       "      <td>2.267633e+08</td>\n",
       "    </tr>\n",
       "    <tr>\n",
       "      <th>47</th>\n",
       "      <td>Jute</td>\n",
       "      <td>2.304238e+08</td>\n",
       "    </tr>\n",
       "    <tr>\n",
       "      <th>48</th>\n",
       "      <td>Maize</td>\n",
       "      <td>4.440007e+08</td>\n",
       "    </tr>\n",
       "    <tr>\n",
       "      <th>49</th>\n",
       "      <td>Cotton(lint)</td>\n",
       "      <td>4.839080e+08</td>\n",
       "    </tr>\n",
       "    <tr>\n",
       "      <th>50</th>\n",
       "      <td>Potato</td>\n",
       "      <td>6.323157e+08</td>\n",
       "    </tr>\n",
       "    <tr>\n",
       "      <th>51</th>\n",
       "      <td>Wheat</td>\n",
       "      <td>2.007360e+09</td>\n",
       "    </tr>\n",
       "    <tr>\n",
       "      <th>52</th>\n",
       "      <td>Rice</td>\n",
       "      <td>2.236428e+09</td>\n",
       "    </tr>\n",
       "    <tr>\n",
       "      <th>53</th>\n",
       "      <td>Sugarcane</td>\n",
       "      <td>7.249507e+09</td>\n",
       "    </tr>\n",
       "    <tr>\n",
       "      <th>54</th>\n",
       "      <td>Coconut</td>\n",
       "      <td>3.108048e+11</td>\n",
       "    </tr>\n",
       "  </tbody>\n",
       "</table>\n",
       "</div>"
      ],
      "text/plain": [
       "                     Crop    Production\n",
       "0     Other Summer Pulses  8.394000e+03\n",
       "1                Cardamom  2.554970e+05\n",
       "2                Sannhamp  4.335300e+05\n",
       "3           Cowpea(Lobia)  7.455680e+05\n",
       "4           Other Cereals  1.682056e+06\n",
       "5            Black pepper  2.097317e+06\n",
       "6               Safflower  3.241790e+06\n",
       "7                 Linseed  3.298069e+06\n",
       "8               Cashewnut  3.740786e+06\n",
       "9              Horse-gram  5.276790e+06\n",
       "10    Other Kharif pulses  6.133466e+06\n",
       "11     Other  Rabi pulses  6.664952e+06\n",
       "12                Khesari  7.115452e+06\n",
       "13                   Moth  7.251608e+06\n",
       "14              Coriander  7.355907e+06\n",
       "15               Turmeric  9.706411e+06\n",
       "16           Sweet potato  1.055358e+07\n",
       "17         other oilseeds  1.181828e+07\n",
       "18          Small millets  1.356192e+07\n",
       "19                  Mesta  1.405361e+07\n",
       "20              Sunflower  1.464568e+07\n",
       "21  Peas & beans (Pulses)  1.480003e+07\n",
       "22                Sesamum  1.574223e+07\n",
       "23         Oilseeds total  1.753557e+07\n",
       "24                 Ginger  1.771734e+07\n",
       "25                 Masoor  2.041273e+07\n",
       "26                Tobacco  2.110247e+07\n",
       "27                 Garlic  2.319512e+07\n",
       "28           Dry chillies  2.653440e+07\n",
       "29            Castor seed  2.794935e+07\n",
       "30              Guar seed  3.132193e+07\n",
       "31      Moong(Green Gram)  3.239899e+07\n",
       "32                 Barley  3.506933e+07\n",
       "33                   Urad  3.788802e+07\n",
       "34               Arecanut  3.929935e+07\n",
       "35             Niger seed  4.064363e+07\n",
       "36                   Ragi  4.425372e+07\n",
       "37              Arhar/Tur  6.126078e+07\n",
       "38                Tapioca  1.309181e+08\n",
       "39                  Onion  1.333439e+08\n",
       "40                  Jowar  1.492559e+08\n",
       "41      Rapeseed &Mustard  1.498361e+08\n",
       "42                   Gram  1.602564e+08\n",
       "43              Groundnut  1.638321e+08\n",
       "44                  Bajra  2.011004e+08\n",
       "45               Soyabean  2.117965e+08\n",
       "46                 Banana  2.267633e+08\n",
       "47                   Jute  2.304238e+08\n",
       "48                  Maize  4.440007e+08\n",
       "49           Cotton(lint)  4.839080e+08\n",
       "50                 Potato  6.323157e+08\n",
       "51                  Wheat  2.007360e+09\n",
       "52                   Rice  2.236428e+09\n",
       "53              Sugarcane  7.249507e+09\n",
       "54               Coconut   3.108048e+11"
      ]
     },
     "execution_count": 49,
     "metadata": {},
     "output_type": "execute_result"
    }
   ],
   "source": [
    "india_low_prod = df.groupby('Crop').sum()['Production'].nsmallest(55).reset_index()\n",
    "india_low_prod"
   ]
  },
  {
   "cell_type": "code",
   "execution_count": 50,
   "id": "5810f062",
   "metadata": {},
   "outputs": [],
   "source": [
    "coconut_prod = df[df['Crop'] == 'Coconut ']"
   ]
  },
  {
   "cell_type": "code",
   "execution_count": 51,
   "id": "f9375e4e",
   "metadata": {},
   "outputs": [
    {
     "data": {
      "text/html": [
       "<div>\n",
       "<style scoped>\n",
       "    .dataframe tbody tr th:only-of-type {\n",
       "        vertical-align: middle;\n",
       "    }\n",
       "\n",
       "    .dataframe tbody tr th {\n",
       "        vertical-align: top;\n",
       "    }\n",
       "\n",
       "    .dataframe thead th {\n",
       "        text-align: right;\n",
       "    }\n",
       "</style>\n",
       "<table border=\"1\" class=\"dataframe\">\n",
       "  <thead>\n",
       "    <tr style=\"text-align: right;\">\n",
       "      <th></th>\n",
       "      <th>State</th>\n",
       "      <th>District</th>\n",
       "      <th>Crop</th>\n",
       "      <th>Crop_Year</th>\n",
       "      <th>Season</th>\n",
       "      <th>Area</th>\n",
       "      <th>Production</th>\n",
       "      <th>Yield</th>\n",
       "    </tr>\n",
       "  </thead>\n",
       "  <tbody>\n",
       "    <tr>\n",
       "      <th>207</th>\n",
       "      <td>Andaman and Nicobar Island</td>\n",
       "      <td>NICOBARS</td>\n",
       "      <td>Coconut</td>\n",
       "      <td>2007</td>\n",
       "      <td>Whole Year</td>\n",
       "      <td>21636.0</td>\n",
       "      <td>80640000.0</td>\n",
       "      <td>3727.12</td>\n",
       "    </tr>\n",
       "    <tr>\n",
       "      <th>208</th>\n",
       "      <td>Andaman and Nicobar Island</td>\n",
       "      <td>NICOBARS</td>\n",
       "      <td>Coconut</td>\n",
       "      <td>2008</td>\n",
       "      <td>Whole Year</td>\n",
       "      <td>43380.0</td>\n",
       "      <td>81900000.0</td>\n",
       "      <td>1887.97</td>\n",
       "    </tr>\n",
       "    <tr>\n",
       "      <th>209</th>\n",
       "      <td>Andaman and Nicobar Island</td>\n",
       "      <td>NICOBARS</td>\n",
       "      <td>Coconut</td>\n",
       "      <td>2009</td>\n",
       "      <td>Whole Year</td>\n",
       "      <td>43520.0</td>\n",
       "      <td>84970000.0</td>\n",
       "      <td>1952.44</td>\n",
       "    </tr>\n",
       "    <tr>\n",
       "      <th>210</th>\n",
       "      <td>Andaman and Nicobar Island</td>\n",
       "      <td>NICOBARS</td>\n",
       "      <td>Coconut</td>\n",
       "      <td>2000</td>\n",
       "      <td>Whole Year</td>\n",
       "      <td>18168.0</td>\n",
       "      <td>65100000.0</td>\n",
       "      <td>3583.22</td>\n",
       "    </tr>\n",
       "    <tr>\n",
       "      <th>211</th>\n",
       "      <td>Andaman and Nicobar Island</td>\n",
       "      <td>NICOBARS</td>\n",
       "      <td>Coconut</td>\n",
       "      <td>2001</td>\n",
       "      <td>Whole Year</td>\n",
       "      <td>18190.0</td>\n",
       "      <td>64430000.0</td>\n",
       "      <td>3542.06</td>\n",
       "    </tr>\n",
       "    <tr>\n",
       "      <th>...</th>\n",
       "      <td>...</td>\n",
       "      <td>...</td>\n",
       "      <td>...</td>\n",
       "      <td>...</td>\n",
       "      <td>...</td>\n",
       "      <td>...</td>\n",
       "      <td>...</td>\n",
       "      <td>...</td>\n",
       "    </tr>\n",
       "    <tr>\n",
       "      <th>333865</th>\n",
       "      <td>West Bengal</td>\n",
       "      <td>PURULIA</td>\n",
       "      <td>Coconut</td>\n",
       "      <td>2015</td>\n",
       "      <td>Whole Year</td>\n",
       "      <td>65.0</td>\n",
       "      <td>723000.0</td>\n",
       "      <td>11123.08</td>\n",
       "    </tr>\n",
       "    <tr>\n",
       "      <th>333866</th>\n",
       "      <td>West Bengal</td>\n",
       "      <td>PURULIA</td>\n",
       "      <td>Coconut</td>\n",
       "      <td>2016</td>\n",
       "      <td>Whole Year</td>\n",
       "      <td>65.0</td>\n",
       "      <td>754900.0</td>\n",
       "      <td>11613.85</td>\n",
       "    </tr>\n",
       "    <tr>\n",
       "      <th>333867</th>\n",
       "      <td>West Bengal</td>\n",
       "      <td>PURULIA</td>\n",
       "      <td>Coconut</td>\n",
       "      <td>2017</td>\n",
       "      <td>Whole Year</td>\n",
       "      <td>68.0</td>\n",
       "      <td>785500.0</td>\n",
       "      <td>11551.47</td>\n",
       "    </tr>\n",
       "    <tr>\n",
       "      <th>333868</th>\n",
       "      <td>West Bengal</td>\n",
       "      <td>PURULIA</td>\n",
       "      <td>Coconut</td>\n",
       "      <td>2018</td>\n",
       "      <td>Whole Year</td>\n",
       "      <td>75.0</td>\n",
       "      <td>857500.0</td>\n",
       "      <td>11433.33</td>\n",
       "    </tr>\n",
       "    <tr>\n",
       "      <th>333869</th>\n",
       "      <td>West Bengal</td>\n",
       "      <td>PURULIA</td>\n",
       "      <td>Coconut</td>\n",
       "      <td>2019</td>\n",
       "      <td>Whole Year</td>\n",
       "      <td>78.0</td>\n",
       "      <td>858100.0</td>\n",
       "      <td>11001.28</td>\n",
       "    </tr>\n",
       "  </tbody>\n",
       "</table>\n",
       "<p>2890 rows × 8 columns</p>\n",
       "</div>"
      ],
      "text/plain": [
       "                             State District       Crop  Crop_Year  \\\n",
       "207     Andaman and Nicobar Island  NICOBARS  Coconut        2007   \n",
       "208     Andaman and Nicobar Island  NICOBARS  Coconut        2008   \n",
       "209     Andaman and Nicobar Island  NICOBARS  Coconut        2009   \n",
       "210     Andaman and Nicobar Island  NICOBARS  Coconut        2000   \n",
       "211     Andaman and Nicobar Island  NICOBARS  Coconut        2001   \n",
       "...                            ...       ...       ...        ...   \n",
       "333865                 West Bengal   PURULIA  Coconut        2015   \n",
       "333866                 West Bengal   PURULIA  Coconut        2016   \n",
       "333867                 West Bengal   PURULIA  Coconut        2017   \n",
       "333868                 West Bengal   PURULIA  Coconut        2018   \n",
       "333869                 West Bengal   PURULIA  Coconut        2019   \n",
       "\n",
       "             Season    Area   Production     Yield  \n",
       "207     Whole Year   21636.0  80640000.0   3727.12  \n",
       "208     Whole Year   43380.0  81900000.0   1887.97  \n",
       "209     Whole Year   43520.0  84970000.0   1952.44  \n",
       "210     Whole Year   18168.0  65100000.0   3583.22  \n",
       "211     Whole Year   18190.0  64430000.0   3542.06  \n",
       "...             ...      ...         ...       ...  \n",
       "333865  Whole Year      65.0    723000.0  11123.08  \n",
       "333866  Whole Year      65.0    754900.0  11613.85  \n",
       "333867  Whole Year      68.0    785500.0  11551.47  \n",
       "333868  Whole Year      75.0    857500.0  11433.33  \n",
       "333869  Whole Year      78.0    858100.0  11001.28  \n",
       "\n",
       "[2890 rows x 8 columns]"
      ]
     },
     "execution_count": 51,
     "metadata": {},
     "output_type": "execute_result"
    }
   ],
   "source": [
    "coconut_prod"
   ]
  },
  {
   "cell_type": "code",
   "execution_count": 52,
   "id": "b1bc16a1",
   "metadata": {},
   "outputs": [
    {
     "data": {
      "image/png": "[encoded data removed]",
      "text/plain": [
       "<Figure size 800x600 with 1 Axes>"
      ]
     },
     "metadata": {
      "needs_background": "light"
     },
     "output_type": "display_data"
    }
   ],
   "source": [
    "plt.figure(figsize=(8,6),dpi=100)\n",
    "sns.barplot(data=coconut_prod,x='Production',y='State');"
   ]
  },
  {
   "cell_type": "code",
   "execution_count": 53,
   "id": "bbe390d5",
   "metadata": {},
   "outputs": [
    {
     "data": {
      "image/png": "[encoded data removed]",
      "text/plain": [
       "<Figure size 1000x1000 with 1 Axes>"
      ]
     },
     "metadata": {
      "needs_background": "light"
     },
     "output_type": "display_data"
    }
   ],
   "source": [
    "plt.figure(figsize=(10,10),dpi=100)\n",
    "sns.lineplot(data=coconut_prod,x='Crop_Year',y='Production');"
   ]
  },
  {
   "cell_type": "code",
   "execution_count": 54,
   "id": "8a434345",
   "metadata": {},
   "outputs": [
    {
     "data": {
      "image/png": "[encoded data removed]",
      "text/plain": [
       "<Figure size 1300x1200 with 1 Axes>"
      ]
     },
     "metadata": {
      "needs_background": "light"
     },
     "output_type": "display_data"
    }
   ],
   "source": [
    "plt.figure(figsize=(13,12),dpi=100)\n",
    "sns.barplot(data=coconut_prod,x='Crop_Year',y='Production');"
   ]
  },
  {
   "cell_type": "code",
   "execution_count": 55,
   "id": "95a41f33",
   "metadata": {},
   "outputs": [
    {
     "data": {
      "text/plain": [
       "Season\n",
       "Whole Year     3.108043e+11\n",
       "Kharif         4.923400e+05\n",
       "Name: Production, dtype: float64"
      ]
     },
     "execution_count": 55,
     "metadata": {},
     "output_type": "execute_result"
    }
   ],
   "source": [
    "coconut_prod.groupby('Season').sum()['Production'].nlargest()"
   ]
  },
  {
   "cell_type": "code",
   "execution_count": 56,
   "id": "98e150be",
   "metadata": {},
   "outputs": [],
   "source": [
    "coconut_season = coconut_prod.groupby('Season').sum()['Production'].reset_index()"
   ]
  },
  {
   "cell_type": "code",
   "execution_count": 57,
   "id": "45978526",
   "metadata": {},
   "outputs": [
    {
     "data": {
      "image/png": "[encoded data removed]",
      "text/plain": [
       "<Figure size 432x288 with 1 Axes>"
      ]
     },
     "metadata": {
      "needs_background": "light"
     },
     "output_type": "display_data"
    }
   ],
   "source": [
    "sns.scatterplot(data=coconut_prod,x='Crop_Year',y='Production');"
   ]
  },
  {
   "cell_type": "markdown",
   "id": "e50ab0b1",
   "metadata": {},
   "source": [
    "# Model Training, Evalation, selection, development "
   ]
  },
  {
   "cell_type": "code",
   "execution_count": 59,
   "id": "d7eb437c",
   "metadata": {},
   "outputs": [
    {
     "data": {
      "text/plain": [
       "4530257629.966684"
      ]
     },
     "execution_count": 59,
     "metadata": {},
     "output_type": "execute_result"
    }
   ],
   "source": [
    "from statsmodels.tsa.arima.model import ARIMA\n",
    "from sklearn.metrics import mean_absolute_error\n",
    "\n",
    "group_data = df.groupby('Crop_Year')['Production'].sum()\n",
    "X_train = group_data.values[:-5]\n",
    "X_test = group_data.values[-5:]\n",
    "\n",
    "model = ARIMA(X_train, order=(1,1, 1))\n",
    "model_fit= model.fit()\n",
    "\n",
    "pred = model_fit.forecast(steps=5)\n",
    "\n",
    "mae = mean_absolute_error(X_test,pred)\n",
    "mae"
   ]
  },
  {
   "cell_type": "code",
   "execution_count": 60,
   "id": "a04622e4",
   "metadata": {},
   "outputs": [
    {
     "data": {
      "text/plain": [
       "array([1.08467739e+10, 6.87894425e+09, 8.33176867e+09, 7.79981570e+09,\n",
       "       7.99459076e+09])"
      ]
     },
     "execution_count": 60,
     "metadata": {},
     "output_type": "execute_result"
    }
   ],
   "source": [
    "X_train = group_data.values\n",
    "model = ARIMA(X_train, order=(1,1, 1))\n",
    "model_fit= model.fit()\n",
    "\n",
    "pred = model_fit.forecast(steps=5)\n",
    "pred"
   ]
  },
  {
   "cell_type": "code",
   "execution_count": 62,
   "id": "211ae4a4",
   "metadata": {},
   "outputs": [
    {
     "data": {
      "text/plain": [
       "406986.4356110321"
      ]
     },
     "execution_count": 62,
     "metadata": {},
     "output_type": "execute_result"
    }
   ],
   "source": [
    "group_data = df.groupby('Crop_Year')['Yield'].sum()\n",
    "X_train = group_data.values[:-5]\n",
    "X_test = group_data.values[-5:]\n",
    "\n",
    "model = ARIMA(X_train, order = (2,1,2))\n",
    "model_fit = model.fit()\n",
    "\n",
    "pred = model_fit.forecast(steps=5)\n",
    "\n",
    "mae= mean_absolute_error(X_test,pred)\n",
    "mae"
   ]
  },
  {
   "cell_type": "code",
   "execution_count": 63,
   "id": "e648366c",
   "metadata": {},
   "outputs": [
    {
     "data": {
      "text/plain": [
       "array([1121371.63507502,  194101.73102582,   -6219.9832294 ,\n",
       "         27902.24038385,   45805.88046464])"
      ]
     },
     "execution_count": 63,
     "metadata": {},
     "output_type": "execute_result"
    }
   ],
   "source": [
    "X_train = group_data.values\n",
    "model = ARIMA(X_train, order=(2,1,2))\n",
    "model_fit = model.fit()\n",
    "\n",
    "pred = model_fit.forecast(steps=5)\n",
    "pred"
   ]
  }
 ],
 "metadata": {
  "kernelspec": {
   "display_name": "Python 3 (ipykernel)",
   "language": "python",
   "name": "python3"
  },
  "language_info": {
   "codemirror_mode": {
    "name": "ipython",
    "version": 3
   },
   "file_extension": ".py",
   "mimetype": "text/x-python",
   "name": "python",
   "nbconvert_exporter": "python",
   "pygments_lexer": "ipython3",
   "version": "3.9.12"
  }
 },
 "nbformat": 4,
 "nbformat_minor": 5
}
